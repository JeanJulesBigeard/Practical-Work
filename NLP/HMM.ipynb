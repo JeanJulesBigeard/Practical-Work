{
 "cells": [
  {
   "cell_type": "markdown",
   "metadata": {},
   "source": [
    "### Task : automatic segmentation of mails, problem statement\n",
    "\n",
    "This Lab aims to build an email segmentation tool, dedicated to separate the email header from its\n",
    "body. It is proposed to perform this task by learning a HMM (A, B, π) with two states, one (state 1) for\n",
    "the header, the other (state 2) for the body. In this model, it is assumed that each mail actually contains\n",
    "a header : the decoding necessarily begins in the state 1."
   ]
  },
  {
   "cell_type": "markdown",
   "metadata": {},
   "source": [
    "#### Q1 : Give the value of the π vector of the initial probabilities\n",
    "Knowing that each mail contains exactly one header and one body, each mail follows once the transition\n",
    "from 1 to 2. The transition matrix (A(i, j) = P(j|i)) estimated on a labeled small corpus has thus the\n",
    "following form :\n",
    "A =[[0.999218078035812; 0.000781921964187974];\n",
    "    [                0;                    1]]"
   ]
  },
  {
   "cell_type": "markdown",
   "metadata": {},
   "source": [
    "π=[0;1] "
   ]
  },
  {
   "cell_type": "markdown",
   "metadata": {},
   "source": [
    "#### Q2 : What is the probability to move from state 1 to state 2 ? What is the probability\n",
    "to remain in state 2 ? What is the lower/higher probability ? Try to explain why\n",
    "A mail is represented by a sequence of characters. Let N be the number of different characters. Each\n",
    "part of the mail is characterized by a discrete probability distribution on the characters P(c|s), with s = 1\n",
    "or s = 2."
   ]
  },
  {
   "cell_type": "markdown",
   "metadata": {},
   "source": [
    "To move from state 1 to state 2: 0.000781921964187974\n",
    "\n",
    "To remain in state 2: 1\n",
    "\n",
    "Once we get in state 2, we cannot go back to state one. \n",
    "\n",
    "And since we are working caracter by caracter, to go from 1 to 2 is very low because there are a lot of caracter for each mail and the transition is on only one caracter."
   ]
  },
  {
   "cell_type": "markdown",
   "metadata": {},
   "source": [
    " #### Q3 : What is the size of B ?\n",
    " \n",
    " "
   ]
  },
  {
   "cell_type": "markdown",
   "metadata": {},
   "source": [
    "We have 2 states and N caracters, so the size of B is (2,N)"
   ]
  },
  {
   "cell_type": "markdown",
   "metadata": {},
   "source": [
    "#### Material\n",
    "\n",
    "Coding/decoding mails\n",
    "\n",
    "Emails are represented as ASCII character vectors.\n",
    "In dat.zip, mail.txt can be transformed into a vector of numbers (between 0 and 255) (one vector per\n",
    "line) in a text ;\n",
    "Files of the form dat/*.dat contain the already encoded versions of the corresponding mails. The list\n",
    "is in mail.lst.\n",
    "Use the command np.loadtxt to load the dat files."
   ]
  },
  {
   "cell_type": "markdown",
   "metadata": {},
   "source": [
    "#### Distribution files\n",
    "\n",
    "For the first part of the Lab, we work with the distributions that are provided in the P.text file.\n",
    "Each of the columns of this file contains the distribution of the probabilities of occurrence of each\n",
    "character. of the ASCII codes respectively in the header and in the body. These distributions were learned\n",
    "on a small corpus labeled with 10 emails ; there are obvious differences, especially in areas where ASCII\n",
    "codes correspond to alphabetic characters, as you can see by viewing these distributions."
   ]
  },
  {
   "cell_type": "markdown",
   "metadata": {},
   "source": [
    "#### To implement\n",
    "All the work is to be done under Python.\n",
    "— implement the Viterbi algorithm. Concretely, it comes to coding a function which takes as argument\n",
    "a vector of observations and the parameters of the model, and returns a vector of states representing\n",
    "the most probable sequence.\n",
    "— test it on some mails that are given in the dat directory (especially mail11.txt to mail30.txt)."
   ]
  },
  {
   "cell_type": "markdown",
   "metadata": {},
   "source": [
    "#### Visualizing segmentation\n",
    "\n",
    "Finally, the utility segment.pl allows to visualize a segmentation produced by your segmenter in the\n",
    "form of the best path found by the Viterbi algorithm (in a vector of 1 and 2). It produces a file path.txt\n",
    "where the segmentation is visualized. It calls coder.pl that encodes the mail in ascii. To use it :"
   ]
  },
  {
   "cell_type": "code",
   "execution_count": 118,
   "metadata": {},
   "outputs": [],
   "source": [
    "import numpy as np\n",
    "import matplotlib.pyplot as plt"
   ]
  },
  {
   "cell_type": "code",
   "execution_count": 119,
   "metadata": {},
   "outputs": [],
   "source": [
    "X = np.loadtxt('/home/jean/Downloads/dat/dat/mail30.dat')"
   ]
  },
  {
   "cell_type": "code",
   "execution_count": 120,
   "metadata": {},
   "outputs": [],
   "source": [
    "A = np.array([[0.999218078035812, 0.000781921964187974],[0,1]])"
   ]
  },
  {
   "cell_type": "code",
   "execution_count": 121,
   "metadata": {},
   "outputs": [],
   "source": [
    "init = np.array([1,0])"
   ]
  },
  {
   "cell_type": "code",
   "execution_count": 122,
   "metadata": {},
   "outputs": [],
   "source": [
    "P = np.loadtxt('/home/jean/Downloads/PerlScriptAndModel/PerlScriptAndModel/P.text')"
   ]
  },
  {
   "cell_type": "code",
   "execution_count": 123,
   "metadata": {},
   "outputs": [
    {
     "data": {
      "image/png": "[encoded data removed]",
      "text/plain": [
       "<Figure size 432x288 with 1 Axes>"
      ]
     },
     "metadata": {
      "needs_background": "light"
     },
     "output_type": "display_data"
    }
   ],
   "source": [
    "plt.title('Graph de P')\n",
    "plt.plot(P)\n",
    "plt.show()"
   ]
  },
  {
   "cell_type": "code",
   "execution_count": 124,
   "metadata": {},
   "outputs": [],
   "source": [
    "def viterbi(X,A,B,init):\n",
    "    T = X.shape[0]\n",
    "    M = A.shape[0] \n",
    "    B = B.T\n",
    "    omega = np.zeros((T,M))\n",
    "    \n",
    "    omega[0, :] = np.log(init * B[:, int(X[0])]+0.00000001)\n",
    " \n",
    "    prev = np.zeros((T - 1, M))\n",
    "    \n",
    "    for t in range(1, T):\n",
    "        for j in range(M):\n",
    "            # Same as Forward Probability\n",
    "            probability = omega[t - 1] + np.log(A[:, j]+0.00000001) + np.log(B[j, int(X[t])]+0.00000001)\n",
    " \n",
    "            # This is our most probable state given previous state at time t (1)\n",
    "            prev[t - 1, j] = np.argmax(probability)\n",
    " \n",
    "            # This is the probability of the most probable state (2)\n",
    "            omega[t, j] = np.max(probability)\n",
    " \n",
    "    # Path Array\n",
    "    S = np.zeros(T)\n",
    " \n",
    "    # Find the most probable last hidden state\n",
    "    last_state = np.argmax(omega[T - 1, :])\n",
    " \n",
    "    S[0] = last_state\n",
    " \n",
    "    backtrack_index = 1\n",
    "    for i in range(T - 2, -1, -1):\n",
    "        S[backtrack_index] = prev[i, int(last_state)]\n",
    "        last_state = prev[i, int(last_state)]\n",
    "        backtrack_index += 1\n",
    " \n",
    "    # Flip the path array since we were backtracking\n",
    "    S = np.flip(S, axis=0)\n",
    " \n",
    "    # Convert numeric values to actual hidden states\n",
    "    result = []\n",
    "    for s in S:\n",
    "        if s == 0:\n",
    "            result.append(\"1\")\n",
    "        else:\n",
    "            result.append(\"2\")\n",
    " \n",
    "    return result"
   ]
  },
  {
   "cell_type": "code",
   "execution_count": 125,
   "metadata": {},
   "outputs": [],
   "source": [
    "l=viterbi(X,A,P,init)"
   ]
  },
  {
   "cell_type": "code",
   "execution_count": 126,
   "metadata": {},
   "outputs": [],
   "source": [
    "mail = '/home/jean/Downloads/dat/dat/mail30.txt'"
   ]
  },
  {
   "cell_type": "code",
   "execution_count": 127,
   "metadata": {},
   "outputs": [
    {
     "name": "stdout",
     "output_type": "stream",
     "text": [
      "2222\n"
     ]
    }
   ],
   "source": [
    "# Give the character where we are cutting\n",
    "c=0\n",
    "for i in range (len(l)):\n",
    "    if l[i]=='1':\n",
    "        c+=1\n",
    "print(c)"
   ]
  },
  {
   "cell_type": "code",
   "execution_count": 130,
   "metadata": {},
   "outputs": [],
   "source": [
    "with open(mail, 'r') as file:\n",
    "    data = file.read().replace('\\n', '')"
   ]
  },
  {
   "cell_type": "code",
   "execution_count": 136,
   "metadata": {},
   "outputs": [
    {
     "data": {
      "text/plain": [
       "'From ilug-admin@linux.ie  Fri Aug 23 11:07:51 2002Return-Path: <ilug-admin@linux.ie>Delivered-To: zzzz@localhost.netnoteinc.comReceived: from localhost (localhost [127.0.0.1])\\tby phobos.labs.netnoteinc.com (Postfix) with ESMTP id 7419C4416C\\tfor <zzzz@localhost>; Fri, 23 Aug 2002 06:06:33 -0400 (EDT)Received: from phobos [127.0.0.1]\\tby localhost with IMAP (fetchmail-5.9.0)\\tfor zzzz@localhost (single-drop); Fri, 23 Aug 2002 11:06:33 +0100 (IST)Received: from lugh.tuatha.org (root@lugh.tuatha.org [194.125.145.45]) by    dogma.slashnull.org (8.11.6/8.11.6) with ESMTP id g7MJtgZ22471 for    <zzzz-ilug@spamassassin.taint.org>; Thu, 22 Aug 2002 20:55:42 +0100Received: from lugh (root@localhost [127.0.0.1]) by lugh.tuatha.org    (8.9.3/8.9.3) with ESMTP id UAA19436; Thu, 22 Aug 2002 20:53:00 +0100X-Authentication-Warning: lugh.tuatha.org: Host root@localhost [127.0.0.1]    claimed to be lughReceived: from mail02.svc.cra.dublin.eircom.net    (mail02.svc.cra.dublin.eircom.net [159.134.118.18]) by lugh.tuatha.org    (8.9.3/8.9.3) with SMTP id UAA19403 for <ilug@linux.ie>; Thu,    22 Aug 2002 20:52:53 +0100Received: (qmail 50842 messnum 34651 invoked from    network[159.134.205.176/p432.as1.athlone1.eircom.net]); 22 Aug 2002    19:52:16 -0000Received: from p432.as1.athlone1.eircom.net (HELO darkstar)    (159.134.205.176) by mail02.svc.cra.dublin.eircom.net (qp 50842) with SMTP;    22 Aug 2002 19:52:16 -0000Content-Type: text/plain; charset=\"iso-8859-15\"From: Ciaran Johnston <cj@nologic.org>Organization: nologic.orgTo: <ilug@linux.ie>Subject: Re: [ILUG] Formatting a windows partition from LinuxDate: Thu, 22 Aug 2002 20:58:07 +0100User-Agent: KMail/1.4.1References: <1029944325.29456.28.camel@dubrhlnx1>    <26030.194.237.142.30.1029943301.squirrel@mail.nologic.org>In-Reply-To: <26030.194.237.142.30.1029943301.squirrel@mail.nologic.org>MIME-Version: 1.0Message-Id: <200208222058.07760.cj@nologic.org>Content-Transfer-Encoding: 8bitX-MIME-Autoconverted: from quoted-printable to 8bit by lugh.tuatha.org id    UAA19403Sender: ilug-admin@linux.ieErrors-To: ilug-admin@linux.ieX-Mailman-Version: 1.1Precedence: bulkList-Id: Irish Linux Users\\' Group <ilug.linux.ie>X-Beenthere: ilug@linux.ieUpdate on this for an'"
      ]
     },
     "execution_count": 136,
     "metadata": {},
     "output_type": "execute_result"
    }
   ],
   "source": [
    "# Give the header\n",
    "data[0:c+1]"
   ]
  },
  {
   "cell_type": "markdown",
   "metadata": {},
   "source": [
    "#### We can check several header and compare it"
   ]
  },
  {
   "cell_type": "code",
   "execution_count": 137,
   "metadata": {},
   "outputs": [
    {
     "name": "stdout",
     "output_type": "stream",
     "text": [
      "2319\n"
     ]
    },
    {
     "data": {
      "text/plain": [
       "'From ilug-admin@linux.ie  Fri Aug 23 11:07:47 2002Return-Path: <ilug-admin@linux.ie>Delivered-To: zzzz@localhost.netnoteinc.comReceived: from localhost (localhost [127.0.0.1])\\tby phobos.labs.netnoteinc.com (Postfix) with ESMTP id 6F82C4416B\\tfor <zzzz@localhost>; Fri, 23 Aug 2002 06:06:31 -0400 (EDT)Received: from phobos [127.0.0.1]\\tby localhost with IMAP (fetchmail-5.9.0)\\tfor zzzz@localhost (single-drop); Fri, 23 Aug 2002 11:06:31 +0100 (IST)Received: from lugh.tuatha.org (root@lugh.tuatha.org [194.125.145.45]) by    dogma.slashnull.org (8.11.6/8.11.6) with ESMTP id g7MIE5Z19072 for    <zzzz-ilug@spamassassin.taint.org>; Thu, 22 Aug 2002 19:14:05 +0100Received: from lugh (root@localhost [127.0.0.1]) by lugh.tuatha.org    (8.9.3/8.9.3) with ESMTP id TAA15460; Thu, 22 Aug 2002 19:12:03 +0100X-Authentication-Warning: lugh.tuatha.org: Host root@localhost [127.0.0.1]    claimed to be lughReceived: from nwkea-mail-1.sun.com (nwkea-mail-1.sun.com [192.18.42.13])    by lugh.tuatha.org (8.9.3/8.9.3) with ESMTP id TAA15419 for    <ilug@linux.ie>; Thu, 22 Aug 2002 19:11:56 +0100Received: from sunire.Ireland.Sun.COM ([129.156.220.30]) by    nwkea-mail-1.sun.com (8.9.3+Sun/8.9.3) with ESMTP id LAA04778 for    <ilug@linux.ie>; Thu, 22 Aug 2002 11:11:20 -0700 (PDT)Received: from sionnach.ireland.sun.com (sionnach [129.156.220.28]) by    sunire.Ireland.Sun.COM (8.11.6+Sun/8.11.6/ENSMAIL,v2.2) with ESMTP id    g7MIBJd19492 for <ilug@linux.ie>; Thu, 22 Aug 2002 19:11:19 +0100 (BST)Received: from sionnach (localhost [127.0.0.1]) by    sionnach.ireland.sun.com (8.12.2+Sun/8.12.2) with ESMTP id g7MIBJdr004189    for <ilug@linux.ie>; Thu, 22 Aug 2002 19:11:19 +0100 (BST)Message-Id: <200208221811.g7MIBJdr004189@sionnach.ireland.sun.com>X-Mailer: exmh version 2.5 07/13/2001 with nmh-1.0.4To: ilug@linux.ieFrom: Albert White - SUN Ireland <albert.white@ireland.sun.com>Subject: Re: [ILUG] Sun Solaris..In-Reply-To: Your message of    \"Thu, 22 Aug 2002 18:42:33 BST.\"    <Pine.LNX.4.44.0208221841070.28604-100000@dunlop.admin.ie.alphyra.com>Date: Thu, 22 Aug 2002 19:11:19 +0100Sender: ilug-admin@linux.ieErrors-To: ilug-admin@linux.ieX-Mailman-Version: 1.1Precedence: bulkList-Id: Irish Linux Users\\' Group <ilug.linux.ie>X-Beenthere: ilug@linux.ie> On Thu, 22 Aug 2002, John P. Looney wrote:> >  Sun\\'s hardware in '"
      ]
     },
     "execution_count": 137,
     "metadata": {},
     "output_type": "execute_result"
    }
   ],
   "source": [
    "X = np.loadtxt('/home/jean/Downloads/dat/dat/mail25.dat')\n",
    "l=viterbi(X,A,P,init)\n",
    "\n",
    "# Give the character where we are cutting\n",
    "c=0\n",
    "for i in range (len(l)):\n",
    "    if l[i]=='1':\n",
    "        c+=1\n",
    "print(c)\n",
    "\n",
    "mail = '/home/jean/Downloads/dat/dat/mail25.txt'\n",
    "\n",
    "with open(mail, 'r') as file:\n",
    "    data = file.read().replace('\\n', '')\n",
    "    \n",
    "    # Give the header\n",
    "data[0:c+1]"
   ]
  },
  {
   "cell_type": "code",
   "execution_count": 138,
   "metadata": {},
   "outputs": [
    {
     "name": "stdout",
     "output_type": "stream",
     "text": [
      "2183\n"
     ]
    },
    {
     "data": {
      "text/plain": [
       "'From fork-admin@xent.com  Thu Aug 22 16:37:41 2002Return-Path: <fork-admin@xent.com>Delivered-To: zzzz@localhost.netnoteinc.comReceived: from localhost (localhost [127.0.0.1])\\tby phobos.labs.netnoteinc.com (Postfix) with ESMTP id 5DB9843F99\\tfor <zzzz@localhost>; Thu, 22 Aug 2002 11:37:40 -0400 (EDT)Received: from phobos [127.0.0.1]\\tby localhost with IMAP (fetchmail-5.9.0)\\tfor zzzz@localhost (single-drop); Thu, 22 Aug 2002 16:37:40 +0100 (IST)Received: from xent.com ([64.161.22.236]) by dogma.slashnull.org    (8.11.6/8.11.6) with ESMTP id g7MFbVZ12617 for <zzzz@spamassassin.taint.org>;    Thu, 22 Aug 2002 16:37:32 +0100Received: from lair.xent.com (localhost [127.0.0.1]) by xent.com (Postfix)    with ESMTP id D8D5029409A; Thu, 22 Aug 2002 08:35:09 -0700 (PDT)Delivered-To: fork@spamassassin.taint.orgReceived: from sunserver.permafrost.net (u172n16.hfx.eastlink.ca    [24.222.172.16]) by xent.com (Postfix) with ESMTP id 3703F294099 for    <fork@xent.com>; Thu, 22 Aug 2002 08:34:40 -0700 (PDT)Received: from [192.168.123.179] (helo=permafrost.net) by    sunserver.permafrost.net with esmtp (Exim 3.35 #1 (Debian)) id    17htxj-0008Ad-00 for <fork@xent.com>; Thu, 22 Aug 2002 12:33:31 -0300Message-Id: <3D6505C3.2020405@permafrost.net>From: Owen Byrne <owen@permafrost.net>User-Agent: Mozilla/5.0 (Windows; U; Win98; en-US; rv:1.0.0) Gecko/20020530X-Accept-Language: en-us, enMIME-Version: 1.0To: fork@spamassassin.taint.orgSubject: The case for spamContent-Type: text/plain; charset=us-ascii; format=flowedContent-Transfer-Encoding: 7bitSender: fork-admin@xent.comErrors-To: fork-admin@xent.comX-Beenthere: fork@spamassassin.taint.orgX-Mailman-Version: 2.0.11Precedence: bulkList-Help: <mailto:fork-request@xent.com?subject=help>List-Post: <mailto:fork@spamassassin.taint.org>List-Subscribe: <http://xent.com/mailman/listinfo/fork>, <mailto:fork-request@xent.com?subject=subscribe>List-Id: Friends of Rohit Khare <fork.xent.com>List-Unsubscribe: <http://xent.com/mailman/listinfo/fork>,    <mailto:fork-request@xent.com?subject=unsubscribe>List-Archive: <http://xent.com/pipermail/fork/>Date: Thu, 22 Aug 2002 12:39:47 -0300SpamAssassin is hurting democracy!Owen------------'"
      ]
     },
     "execution_count": 138,
     "metadata": {},
     "output_type": "execute_result"
    }
   ],
   "source": [
    "X = np.loadtxt('/home/jean/Downloads/dat/dat/mail15.dat')\n",
    "l=viterbi(X,A,P,init)\n",
    "\n",
    "# Give the character where we are cutting\n",
    "c=0\n",
    "for i in range (len(l)):\n",
    "    if l[i]=='1':\n",
    "        c+=1\n",
    "print(c)\n",
    "\n",
    "mail = '/home/jean/Downloads/dat/dat/mail15.txt'\n",
    "\n",
    "with open(mail, 'r') as file:\n",
    "    data = file.read().replace('\\n', '')\n",
    "    \n",
    "    # Give the header\n",
    "data[0:c+1]"
   ]
  },
  {
   "cell_type": "code",
   "execution_count": 139,
   "metadata": {},
   "outputs": [
    {
     "name": "stdout",
     "output_type": "stream",
     "text": [
      "1771\n"
     ]
    },
    {
     "data": {
      "text/plain": [
       "'From ilug-admin@linux.ie  Fri Aug 23 11:07:42 2002Return-Path: <ilug-admin@linux.ie>Delivered-To: zzzz@localhost.netnoteinc.comReceived: from localhost (localhost [127.0.0.1])\\tby phobos.labs.netnoteinc.com (Postfix) with ESMTP id 762374415C\\tfor <zzzz@localhost>; Fri, 23 Aug 2002 06:06:30 -0400 (EDT)Received: from phobos [127.0.0.1]\\tby localhost with IMAP (fetchmail-5.9.0)\\tfor zzzz@localhost (single-drop); Fri, 23 Aug 2002 11:06:30 +0100 (IST)Received: from lugh.tuatha.org (root@lugh.tuatha.org [194.125.145.45]) by    dogma.slashnull.org (8.11.6/8.11.6) with ESMTP id g7MHxuZ18619 for    <zzzz-ilug@spamassassin.taint.org>; Thu, 22 Aug 2002 18:59:56 +0100Received: from lugh (root@localhost [127.0.0.1]) by lugh.tuatha.org    (8.9.3/8.9.3) with ESMTP id SAA14875; Thu, 22 Aug 2002 18:57:44 +0100Received: from ni-mail1.dna.utvinternet.net (mail.d-n-a.net [194.46.8.11])    by lugh.tuatha.org (8.9.3/8.9.3) with ESMTP id SAA14844 for    <ilug@linux.ie>; Thu, 22 Aug 2002 18:57:36 +0100X-Authentication-Warning: lugh.tuatha.org: Host mail.d-n-a.net    [194.46.8.11] claimed to be ni-mail1.dna.utvinternet.netReceived: from mail.dnet.co.uk (unverified [194.46.8.61]) by    ni-mail1.dna.utvinternet.net (Vircom SMTPRS 1.4.232) with SMTP id    <B0002356019@ni-mail1.dna.utvinternet.net>; Thu, 22 Aug 2002 18:55:19    +0100From: \"Peter Staunton\" <peter@staunton.ie>Reply-To: peter@staunton.ieTo: ilug@linux.ieDate: Thu, 22 Aug 2002 18:57:35 GMTX-Mailer: DMailWeb Web to Mail Gateway 1.8s, http://netwinsite.com/top_mail.htmMessage-Id: <3d65260f.948.0@mail.dnet.co.uk>X-User-Info: 159.134.226.168Subject: [ILUG] Newbie seeks advice - Suse 7.2Sender: ilug-admin@linux.ieErrors-To: ilug-admin@linux.ieX-Mailman-Version: 1.1Precedence: bulkList-Id: Irish Linux Users\\' Group <il'"
      ]
     },
     "execution_count": 139,
     "metadata": {},
     "output_type": "execute_result"
    }
   ],
   "source": [
    "X = np.loadtxt('/home/jean/Downloads/dat/dat/mail27.dat')\n",
    "l=viterbi(X,A,P,init)\n",
    "\n",
    "# Give the character where we are cutting\n",
    "c=0\n",
    "for i in range (len(l)):\n",
    "    if l[i]=='1':\n",
    "        c+=1\n",
    "print(c)\n",
    "\n",
    "mail = '/home/jean/Downloads/dat/dat/mail27.txt'\n",
    "\n",
    "with open(mail, 'r') as file:\n",
    "    data = file.read().replace('\\n', '')\n",
    "    \n",
    "    # Give the header\n",
    "data[0:c+1]"
   ]
  },
  {
   "cell_type": "markdown",
   "metadata": {},
   "source": [
    "#### After few tests, we can say we don't always stop on the right character but at least very close to it."
   ]
  }
 ],
 "metadata": {
  "kernelspec": {
   "display_name": "Python 3",
   "language": "python",
   "name": "python3"
  },
  "language_info": {
   "codemirror_mode": {
    "name": "ipython",
    "version": 3
   },
   "file_extension": ".py",
   "mimetype": "text/x-python",
   "name": "python",
   "nbconvert_exporter": "python",
   "pygments_lexer": "ipython3",
   "version": "3.7.3"
  }
 },
 "nbformat": 4,
 "nbformat_minor": 2
}
