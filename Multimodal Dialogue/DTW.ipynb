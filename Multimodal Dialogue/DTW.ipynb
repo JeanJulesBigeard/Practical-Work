{
 "cells": [
  {
   "cell_type": "markdown",
   "metadata": {},
   "source": [
    "# Dynamic Time Warping for Speech Recognition"
   ]
  },
  {
   "cell_type": "code",
   "execution_count": null,
   "metadata": {},
   "outputs": [],
   "source": [
    "import numpy as np\n",
    "from scipy.io import wavfile\n",
    "import matplotlib.pyplot as plt\n",
    "from scipy.fftpack import dct\n",
    "import random\n",
    "import glob"
   ]
  },
  {
   "cell_type": "markdown",
   "metadata": {},
   "source": [
    "## Speech feature extraction"
   ]
  },
  {
   "cell_type": "code",
   "execution_count": 142,
   "metadata": {},
   "outputs": [],
   "source": [
    "path_1 = '/home/jean/Downloads/Data/Data/SIG/SIG_Rep_1_Number_0.wav'\n",
    "path_2 = '/home/jean/Downloads/Data/Data/SIG/SIG_Rep_2_Number_0.wav'\n",
    "\n",
    "sample_rate, signal = wavfile.read(path_1)"
   ]
  },
  {
   "cell_type": "code",
   "execution_count": 143,
   "metadata": {},
   "outputs": [
    {
     "data": {
      "text/plain": [
       "5098"
      ]
     },
     "execution_count": 143,
     "metadata": {},
     "output_type": "execute_result"
    }
   ],
   "source": [
    "signal.shape[0]"
   ]
  },
  {
   "cell_type": "code",
   "execution_count": 144,
   "metadata": {},
   "outputs": [],
   "source": [
    "window_size = 256\n",
    "window_shift = 128\n",
    "p = 10"
   ]
  },
  {
   "cell_type": "code",
   "execution_count": 145,
   "metadata": {},
   "outputs": [],
   "source": [
    "signal_length = signal.shape[0]\n",
    "num_frames = int(np.ceil(float(np.abs(signal_length - window_size)) / window_shift)) "
   ]
  },
  {
   "cell_type": "code",
   "execution_count": 146,
   "metadata": {},
   "outputs": [
    {
     "data": {
      "text/plain": [
       "38"
      ]
     },
     "execution_count": 146,
     "metadata": {},
     "output_type": "execute_result"
    }
   ],
   "source": [
    "num_frames"
   ]
  },
  {
   "cell_type": "code",
   "execution_count": 147,
   "metadata": {},
   "outputs": [],
   "source": [
    "def cepstral (filename, window_size = 256,window_shift = 128,p = 10,nfilt = 40,NFFT = 256, num_ceps=10):\n",
    "    sample_rate, signal = wavfile.read(filename)\n",
    "    signal_length = signal.shape[0]\n",
    "\n",
    "    # Framing\n",
    "    num_frames = int(np.ceil(float(np.abs(signal_length - window_size)) / window_shift))\n",
    "    \n",
    "    # Pad to have equal number of samples without truncating\n",
    "    pad_signal_length = num_frames * window_shift + window_size\n",
    "    z = np.zeros((pad_signal_length - signal_length))\n",
    "    pad_signal = np.append(signal, z)\n",
    "    \n",
    "    indices = np.tile(np.arange(0, window_size), (num_frames, 1)) + np.tile(np.arange(0, num_frames * window_shift, window_shift), (window_size, 1)).T\n",
    "    frames = pad_signal[indices.astype(np.int32, copy=False)]\n",
    "    \n",
    "    # Reduce spatial leakage and sounterect infinite hypothesis by FFT\n",
    "    frames *= np.hamming(window_size)\n",
    "    \n",
    "    # Fourier transform and power spectrum\n",
    "    mag_frames = np.absolute(np.fft.rfft(frames, NFFT))  # Magnitude of the FFT\n",
    "    pow_frames = ((1.0 / NFFT) * ((mag_frames) ** 2))  # Power Spectrum\n",
    "    \n",
    "    # Filter banks\n",
    "    low_freq_mel = 0\n",
    "    high_freq_mel = (2595 * np.log10(1 + (sample_rate / 2) / 700))  # Convert Hz to Mel\n",
    "    \n",
    "    mel_points = np.linspace(low_freq_mel, high_freq_mel, nfilt + 2)  # Equally spaced in Mel scale\n",
    "    hz_points = (700 * (10**(mel_points / 2595) - 1))  # Convert Mel to Hz\n",
    "    bin = np.floor((NFFT + 1) * hz_points / sample_rate)\n",
    "    \n",
    "    \n",
    "    fbank = np.zeros((nfilt, int(np.floor(NFFT / 2 + 1))))\n",
    "    for m in range(1, nfilt + 1):\n",
    "        f_m_minus = int(bin[m - 1])   # left\n",
    "        f_m = int(bin[m])             # center\n",
    "        f_m_plus = int(bin[m + 1])    # right\n",
    "\n",
    "    for k in range(f_m_minus, f_m):\n",
    "        fbank[m - 1, k] = (k - bin[m - 1]) / (bin[m] - bin[m - 1])\n",
    "    for k in range(f_m, f_m_plus):\n",
    "        fbank[m - 1, k] = (bin[m + 1] - k) / (bin[m + 1] - bin[m])\n",
    "    filter_banks = np.dot(pow_frames, fbank.T)\n",
    "    filter_banks = np.where(filter_banks == 0, np.finfo(float).eps, filter_banks)  # Numerical Stability\n",
    "    filter_banks = 20 * np.log10(filter_banks)  # dB\n",
    "    \n",
    "    # Cepstral Coefficients\n",
    "    mfcc = dct(filter_banks, type=2, axis=1, norm='ortho')[:, 1 : (num_ceps + 1)] \n",
    "    \n",
    "    # Mean normalization to improve signal to noise\n",
    "    mfcc -= (np.mean(mfcc, axis=0) + 1e-8)\n",
    "\n",
    "    return(mfcc)"
   ]
  },
  {
   "cell_type": "code",
   "execution_count": 148,
   "metadata": {},
   "outputs": [
    {
     "data": {
      "text/plain": [
       "(38, 10)"
      ]
     },
     "execution_count": 148,
     "metadata": {},
     "output_type": "execute_result"
    }
   ],
   "source": [
    "cepstral(path_1).shape"
   ]
  },
  {
   "cell_type": "markdown",
   "metadata": {},
   "source": [
    "## Time alignement by dynamic programming"
   ]
  },
  {
   "cell_type": "code",
   "execution_count": 149,
   "metadata": {},
   "outputs": [],
   "source": [
    "def align(X,Y,gamma = 1):\n",
    "    \n",
    "    # Initiate similarity matrix\n",
    "    sim = np.zeros((X.shape[0],Y.shape[0]))\n",
    "    \n",
    "    # Initiate global distance matrix\n",
    "    glob = np.zeros((X.shape[0],Y.shape[0]))\n",
    "    \n",
    "    # Initiate backpointer\n",
    "    backpointer = np.zeros((X.shape[0],Y.shape[0],2))\n",
    "    \n",
    "    # Get local distance\n",
    "    for i in range (X.shape[0]):\n",
    "        for j in range (Y.shape[0]):\n",
    "            q = X[i] - Y[j]\n",
    "            sim[i,j] = np.sqrt((q**2).sum())\n",
    "    \n",
    "    # Get global distance\n",
    "    for i in range (X.shape[0]):\n",
    "        for j in range (Y.shape[0]):\n",
    "            \n",
    "            # Starting point\n",
    "            if (i==0) and (j==0):\n",
    "                glob[i][j] = sim[i][j]  \n",
    "                backpointer[i][j] = [None,None]\n",
    "            \n",
    "            # 1rst row and 1rst column\n",
    "            elif (i==0):\n",
    "                glob[i][j] = glob[i][j-1] + sim[i][j]\n",
    "                backpointer[i][j] = [i,j-1]\n",
    "                \n",
    "            elif (j==0):\n",
    "                glob[i][j] = glob[i-1][j] + sim[i][j]\n",
    "                backpointer[i][j] = [i-1,j]\n",
    "            \n",
    "            # General case coming from 3 directions\n",
    "            else:\n",
    "                lowest_glob = glob[i-1][j]\n",
    "                backpointer[i][j] = [i-1,j]\n",
    "                \n",
    "                if glob[i][j-1] < lowest_glob:\n",
    "                    lowest_glob = glob[i][j-1]\n",
    "                    backpointer[i][j] = [i,j-1]\n",
    "                \n",
    "                if gamma * glob[i-1][j-1] < lowest_glob:\n",
    "                    lowest_glob = gamma * glob[i-1][j-1]\n",
    "                    backpointer[i][j] = [i-1,j-1]\n",
    "                    \n",
    "                glob[i][j] = lowest_glob + sim[i][j]\n",
    "                \n",
    "    distance = glob[X.shape[0]-1][Y.shape[0]-1]\n",
    "    \n",
    "    # Recover the path \n",
    "    \n",
    "    path = []\n",
    "    i,j = X.shape[0]-1, Y.shape[0]-1\n",
    "    path.append((i, j))\n",
    "        \n",
    "    while (i!=0 or j!=0):\n",
    "        path.append((int(backpointer[i][j][0]), int(backpointer[i][j][1])))\n",
    "        i,j =  int(backpointer[i][j][0]), int(backpointer[i][j][1])\n",
    "                        \n",
    "    return(distance, path)\n",
    "    "
   ]
  },
  {
   "cell_type": "code",
   "execution_count": 150,
   "metadata": {},
   "outputs": [],
   "source": [
    "X = cepstral(path_1)\n",
    "Y = cepstral(path_2)"
   ]
  },
  {
   "cell_type": "code",
   "execution_count": 151,
   "metadata": {},
   "outputs": [
    {
     "data": {
      "text/plain": [
       "(121.70942451999342,\n",
       " [(37, 35),\n",
       "  (36, 34),\n",
       "  (36, 33),\n",
       "  (35, 32),\n",
       "  (34, 31),\n",
       "  (33, 30),\n",
       "  (32, 30),\n",
       "  (31, 29),\n",
       "  (31, 28),\n",
       "  (30, 27),\n",
       "  (30, 26),\n",
       "  (29, 25),\n",
       "  (28, 24),\n",
       "  (27, 23),\n",
       "  (27, 22),\n",
       "  (26, 21),\n",
       "  (26, 20),\n",
       "  (25, 19),\n",
       "  (24, 18),\n",
       "  (23, 17),\n",
       "  (22, 16),\n",
       "  (21, 15),\n",
       "  (20, 15),\n",
       "  (19, 15),\n",
       "  (18, 14),\n",
       "  (17, 13),\n",
       "  (16, 12),\n",
       "  (16, 11),\n",
       "  (15, 10),\n",
       "  (15, 9),\n",
       "  (14, 8),\n",
       "  (13, 8),\n",
       "  (12, 8),\n",
       "  (11, 8),\n",
       "  (10, 7),\n",
       "  (9, 6),\n",
       "  (8, 5),\n",
       "  (8, 4),\n",
       "  (7, 3),\n",
       "  (6, 2),\n",
       "  (5, 1),\n",
       "  (4, 1),\n",
       "  (3, 0),\n",
       "  (2, 0),\n",
       "  (1, 0),\n",
       "  (0, 0)])"
      ]
     },
     "execution_count": 151,
     "metadata": {},
     "output_type": "execute_result"
    }
   ],
   "source": [
    "align(X,Y)"
   ]
  },
  {
   "cell_type": "markdown",
   "metadata": {},
   "source": [
    "## Application to speech data\n",
    "\n",
    "Let's take a look at the performances of the realignement to see if it is coherent."
   ]
  },
  {
   "cell_type": "code",
   "execution_count": 152,
   "metadata": {},
   "outputs": [
    {
     "data": {
      "text/plain": [
       "(0.0,\n",
       " [(37, 37),\n",
       "  (36, 36),\n",
       "  (35, 35),\n",
       "  (34, 34),\n",
       "  (33, 33),\n",
       "  (32, 32),\n",
       "  (31, 31),\n",
       "  (30, 30),\n",
       "  (29, 29),\n",
       "  (28, 28),\n",
       "  (27, 27),\n",
       "  (26, 26),\n",
       "  (25, 25),\n",
       "  (24, 24),\n",
       "  (23, 23),\n",
       "  (22, 22),\n",
       "  (21, 21),\n",
       "  (20, 20),\n",
       "  (19, 19),\n",
       "  (18, 18),\n",
       "  (17, 17),\n",
       "  (16, 16),\n",
       "  (15, 15),\n",
       "  (14, 14),\n",
       "  (13, 13),\n",
       "  (12, 12),\n",
       "  (11, 11),\n",
       "  (10, 10),\n",
       "  (9, 9),\n",
       "  (8, 8),\n",
       "  (7, 7),\n",
       "  (6, 6),\n",
       "  (5, 5),\n",
       "  (4, 4),\n",
       "  (3, 3),\n",
       "  (2, 2),\n",
       "  (1, 1),\n",
       "  (0, 0)])"
      ]
     },
     "execution_count": 152,
     "metadata": {},
     "output_type": "execute_result"
    }
   ],
   "source": [
    "# Realign itself should retrun 0 and full diag\n",
    "\n",
    "align(X,X)"
   ]
  },
  {
   "cell_type": "markdown",
   "metadata": {},
   "source": [
    "Let's take rep 1 of zeros and relign it to each other rep in SIG to see if we get coherent results for the distance, i.e. the distance should be lower for the other rep corresponding to the same number than the rep of other number. I chose to do it by averaging over all the rep of each number."
   ]
  },
  {
   "cell_type": "code",
   "execution_count": 153,
   "metadata": {},
   "outputs": [],
   "source": [
    "import glob\n",
    "files = glob.glob('/home/jean/Downloads/Data/Data/SIG/*')"
   ]
  },
  {
   "cell_type": "code",
   "execution_count": 154,
   "metadata": {},
   "outputs": [
    {
     "data": {
      "text/plain": [
       "<BarContainer object of 10 artists>"
      ]
     },
     "execution_count": 154,
     "metadata": {},
     "output_type": "execute_result"
    },
    {
     "data": {
      "image/png": "[encoded data removed]",
      "text/plain": [
       "<Figure size 432x288 with 1 Axes>"
      ]
     },
     "metadata": {},
     "output_type": "display_data"
    }
   ],
   "source": [
    "bin_num = np.zeros(10)\n",
    "for i in files:\n",
    "    j = int(i[-5])\n",
    "    Y_diff = cepstral(i)\n",
    "    bin_num[j] += align(X,Y_diff)[0]\n",
    "    \n",
    "bin_num[1:] /= 12\n",
    "bin_num[0] /= 11\n",
    "\n",
    "plt.title('Distance of rep 1 for 0 to the mean of other rep')\n",
    "plt.bar(np.arange(10),bin_num)"
   ]
  },
  {
   "cell_type": "markdown",
   "metadata": {},
   "source": [
    "As expected the distances for zero ton rep of zero are the closest we get by averaging over 12 rep so it seems to work."
   ]
  },
  {
   "cell_type": "code",
   "execution_count": 155,
   "metadata": {},
   "outputs": [
    {
     "data": {
      "text/plain": [
       "<BarContainer object of 10 artists>"
      ]
     },
     "execution_count": 155,
     "metadata": {},
     "output_type": "execute_result"
    },
    {
     "data": {
      "image/png": "[encoded data removed]",
      "text/plain": [
       "<Figure size 432x288 with 1 Axes>"
      ]
     },
     "metadata": {},
     "output_type": "display_data"
    }
   ],
   "source": [
    "# Let's see the influence of gamma \n",
    "\n",
    "gamma = 1.2\n",
    "\n",
    "bin_num = np.zeros(10)\n",
    "for i in files:\n",
    "    j = int(i[-5])\n",
    "    Y_diff = cepstral(i)\n",
    "    bin_num[j] += align(X,Y_diff,gamma)[0]\n",
    "    \n",
    "bin_num[1:] /= 12\n",
    "bin_num[0] /= 11\n",
    "\n",
    "plt.title('Distance of rep 1 for 0 to the mean of other rep')\n",
    "plt.bar(np.arange(10),bin_num)"
   ]
  },
  {
   "cell_type": "markdown",
   "metadata": {},
   "source": [
    "We can see with gamma higher than one, an averaging effect because of distorsion we are able to get the repetition closer than before."
   ]
  },
  {
   "cell_type": "code",
   "execution_count": 156,
   "metadata": {},
   "outputs": [
    {
     "data": {
      "text/plain": [
       "<BarContainer object of 10 artists>"
      ]
     },
     "execution_count": 156,
     "metadata": {},
     "output_type": "execute_result"
    },
    {
     "data": {
      "image/png": "[encoded data removed]",
      "text/plain": [
       "<Figure size 432x288 with 1 Axes>"
      ]
     },
     "metadata": {},
     "output_type": "display_data"
    }
   ],
   "source": [
    "# Let's see the influence of gamma \n",
    "\n",
    "gamma = 0.8\n",
    "\n",
    "bin_num = np.zeros(10)\n",
    "for i in files:\n",
    "    j = int(i[-5])\n",
    "    Y_diff = cepstral(i)\n",
    "    bin_num[j] += align(X,Y_diff,gamma)[0]\n",
    "    \n",
    "bin_num[1:] /= 12\n",
    "bin_num[0] /= 11\n",
    "\n",
    "plt.title('Distance of rep 1 for 0 to the mean of other rep')\n",
    "plt.bar(np.arange(10),bin_num)"
   ]
  },
  {
   "cell_type": "markdown",
   "metadata": {},
   "source": [
    "With gamma smaller than one we get a discriminative effect by forcing linear alignement. So what was close/far get closer/farer."
   ]
  },
  {
   "cell_type": "markdown",
   "metadata": {},
   "source": [
    "Gamma is a factor that allow us to penalize or encourage the distorsion. As a consequence, a smaller than 1 gamma will 'force' to use the diag (linear transformation) and a higher than 1 gamma will 'force' to not use the diag (deformation / distorsion). Indeed using the diag is a linear alignement while not using it will make distorsion, this could be useful for different speaking speed for example, it gives us some flexibility in the alignement."
   ]
  },
  {
   "cell_type": "markdown",
   "metadata": {},
   "source": [
    "Euclidean distance assume all dimension we have thanks to cepstral vectors are equally important. However some features might be more important than others to detect the label, so a weighted version would help us to improve our modelization by giving more importance to the most important features."
   ]
  },
  {
   "cell_type": "markdown",
   "metadata": {},
   "source": [
    "## Evaluation of speech recognition"
   ]
  },
  {
   "cell_type": "markdown",
   "metadata": {},
   "source": [
    "### Protocol 1 \n",
    "\n",
    "The database is randomly divided in three subsets. Two of these subsets (2/3 of repetitions)\n",
    "are used for the training set and the remaining subset (1/3 of repetitions) is used for the test set.\n",
    "The procedure is repeated by rotating the test and training sets."
   ]
  },
  {
   "cell_type": "code",
   "execution_count": 264,
   "metadata": {},
   "outputs": [],
   "source": [
    "def protocol_1(files,gamma):\n",
    "\n",
    "    random.shuffle(files)\n",
    "\n",
    "    train_files_1 = files[0:int(2/3*len(files))]\n",
    "    test_files_1 = files[int(2/3*len(files)):len(files)]\n",
    "    train_files_2 = files[int(1/3*len(files)):len(files)]\n",
    "    test_files_2 = files[0:int(1/3*len(files))]\n",
    "    train_files_3 = files[0:int(1/3*len(files))]+files[int(2/3*len(files)):len(files)]\n",
    "    test_files_3 = files[int(1/3*len(files)):int(2/3*len(files))]\n",
    "        \n",
    "    conf_matrix_1 = np.zeros((10,10))\n",
    "    conf_matrix_2 = np.zeros((10,10))\n",
    "    conf_matrix_3 = np.zeros((10,10))\n",
    "\n",
    "\n",
    "    for i in test_files_1:\n",
    "        X_test = cepstral(i)\n",
    "        true_label = int(i[-5])\n",
    "        d_min = 10000\n",
    "        label = None\n",
    "        for j in train_files_1:                \n",
    "            Y_train = cepstral(j)\n",
    "            if d_min > align(X_test,Y_train,gamma)[0]:\n",
    "                d_min = align(X_test,Y_train,gamma)[0]\n",
    "                label = int(j[-5])            \n",
    "        conf_matrix_1[true_label,label] +=1\n",
    "\n",
    "    for i in test_files_2:\n",
    "        X_test = cepstral(i)\n",
    "        true_label = int(i[-5])\n",
    "        d_min = 10000\n",
    "        label = None\n",
    "        for j in train_files_2:                \n",
    "            Y_train = cepstral(j)\n",
    "            if d_min > align(X_test,Y_train,gamma)[0]:\n",
    "                d_min = align(X_test,Y_train,gamma)[0]\n",
    "                label = int(j[-5])            \n",
    "        conf_matrix_2[true_label,label] +=1\n",
    "    \n",
    "    for i in test_files_3:\n",
    "        X_test = cepstral(i)\n",
    "        true_label = int(i[-5])\n",
    "        d_min = 10000\n",
    "        label = None\n",
    "        for j in train_files_3:                \n",
    "            Y_train = cepstral(j)\n",
    "            if d_min > align(X_test,Y_train,gamma)[0]:\n",
    "                d_min = align(X_test,Y_train,gamma)[0]\n",
    "                label = int(j[-5])            \n",
    "        conf_matrix_3[true_label,label] +=1\n",
    "    \n",
    "    return(gamma,np.trace(conf_matrix_1 + conf_matrix_2 +  conf_matrix_3)/len(files),conf_matrix_1 + conf_matrix_2 +  conf_matrix_3)\n",
    "    "
   ]
  },
  {
   "cell_type": "code",
   "execution_count": 265,
   "metadata": {},
   "outputs": [
    {
     "name": "stdout",
     "output_type": "stream",
     "text": [
      "Gamma =  0.8\n",
      "Accuracy =  0.525\n",
      "Confusion matrix : \n",
      "[[ 6.  1.  2.  1.  0.  0.  0.  0.  0.  2.]\n",
      " [ 1.  7.  1.  3.  0.  0.  0.  0.  0.  0.]\n",
      " [ 0.  0. 10.  0.  0.  0.  0.  1.  0.  1.]\n",
      " [ 1.  2.  0.  8.  0.  1.  0.  0.  0.  0.]\n",
      " [ 0.  0.  0.  0.  9.  3.  0.  0.  0.  0.]\n",
      " [ 0.  0.  0.  1.  5.  4.  0.  1.  1.  0.]\n",
      " [ 0.  0.  0.  0.  0.  0.  8.  0.  0.  4.]\n",
      " [ 0.  2.  0.  1.  0.  0.  0.  5.  4.  0.]\n",
      " [ 0.  0.  1.  0.  0.  1.  0.  7.  2.  1.]\n",
      " [ 1.  0.  0.  0.  0.  0.  7.  0.  0.  4.]]\n",
      "Gamma =  0.9\n",
      "Accuracy =  0.625\n",
      "Confusion matrix : \n",
      "[[10.  0.  1.  1.  0.  0.  0.  0.  0.  0.]\n",
      " [ 0.  9.  0.  2.  0.  1.  0.  0.  0.  0.]\n",
      " [ 2.  0.  9.  0.  0.  0.  0.  0.  0.  1.]\n",
      " [ 0.  4.  0.  8.  0.  0.  0.  0.  0.  0.]\n",
      " [ 0.  0.  0.  0. 10.  2.  0.  0.  0.  0.]\n",
      " [ 0.  1.  0.  0.  4.  7.  0.  0.  0.  0.]\n",
      " [ 0.  0.  0.  0.  0.  0.  9.  0.  0.  3.]\n",
      " [ 0.  2.  0.  1.  0.  0.  0.  8.  1.  0.]\n",
      " [ 0.  0.  0.  1.  0.  1.  0.  6.  4.  0.]\n",
      " [ 1.  0.  0.  0.  0.  0. 10.  0.  0.  1.]]\n",
      "Gamma =  1\n",
      "Accuracy =  0.725\n",
      "Confusion matrix : \n",
      "[[ 9.  1.  0.  1.  0.  0.  0.  0.  0.  1.]\n",
      " [ 0. 10.  0.  1.  0.  1.  0.  0.  0.  0.]\n",
      " [ 0.  1.  8.  1.  0.  0.  2.  0.  0.  0.]\n",
      " [ 0.  2.  1.  9.  0.  0.  0.  0.  0.  0.]\n",
      " [ 0.  0.  0.  0. 11.  1.  0.  0.  0.  0.]\n",
      " [ 0.  1.  0.  0.  2.  8.  0.  1.  0.  0.]\n",
      " [ 0.  0.  0.  0.  0.  0.  9.  0.  0.  3.]\n",
      " [ 0.  3.  0.  0.  0.  0.  0.  7.  2.  0.]\n",
      " [ 0.  0.  0.  1.  1.  0.  1.  2.  7.  0.]\n",
      " [ 0.  1.  0.  0.  0.  0.  2.  0.  0.  9.]]\n",
      "Gamma =  1.1\n",
      "Accuracy =  0.5416666666666666\n",
      "Confusion matrix : \n",
      "[[ 2.  8.  0.  0.  0.  0.  0.  1.  0.  1.]\n",
      " [ 0.  9.  0.  1.  0.  0.  0.  1.  0.  1.]\n",
      " [ 0.  2.  5.  2.  0.  0.  1.  0.  0.  2.]\n",
      " [ 0.  3.  1.  7.  1.  0.  0.  0.  0.  0.]\n",
      " [ 0.  0.  0.  0. 10.  2.  0.  0.  0.  0.]\n",
      " [ 0.  1.  0.  0.  3.  7.  1.  0.  0.  0.]\n",
      " [ 0.  0.  0.  0.  0.  0.  8.  0.  0.  4.]\n",
      " [ 0.  3.  0.  0.  0.  0.  0.  6.  3.  0.]\n",
      " [ 0.  0.  0.  0.  0.  1.  2.  2.  6.  1.]\n",
      " [ 0.  0.  1.  0.  0.  0.  6.  0.  0.  5.]]\n",
      "Gamma =  1.2\n",
      "Accuracy =  0.6\n",
      "Confusion matrix : \n",
      "[[ 4.  5.  0.  0.  0.  0.  0.  1.  0.  2.]\n",
      " [ 0. 11.  0.  0.  0.  1.  0.  0.  0.  0.]\n",
      " [ 0.  1.  6.  1.  0.  0.  1.  0.  0.  3.]\n",
      " [ 0.  5.  0.  7.  0.  0.  0.  0.  0.  0.]\n",
      " [ 0.  1.  0.  0.  9.  1.  1.  0.  0.  0.]\n",
      " [ 0.  1.  0.  0.  3.  6.  2.  0.  0.  0.]\n",
      " [ 0.  0.  0.  0.  0.  0.  8.  1.  0.  3.]\n",
      " [ 0.  3.  0.  0.  0.  0.  0.  5.  4.  0.]\n",
      " [ 0.  0.  0.  0.  1.  0.  0.  3.  7.  1.]\n",
      " [ 0.  0.  0.  0.  0.  0.  3.  0.  0.  9.]]\n"
     ]
    }
   ],
   "source": [
    "# Apply prot 1 to SIG for diff gamma\n",
    "\n",
    "import glob\n",
    "files = glob.glob('/home/jean/Downloads/Data/Data/SIG/*')\n",
    "\n",
    "for gamma in [0.8,0.9,1,1.1,1.2]:\n",
    "    gam,acc,cm = protocol_1(files,gamma)\n",
    "    print('Gamma = ', gam)\n",
    "    print('Accuracy = ', acc)\n",
    "    print('Confusion matrix : ')\n",
    "    print(cm)"
   ]
  },
  {
   "cell_type": "markdown",
   "metadata": {},
   "source": [
    "Best result seems to be for gamma = 1, more over random guess would be 10%, so not bad. Same for SIG."
   ]
  },
  {
   "cell_type": "code",
   "execution_count": 266,
   "metadata": {},
   "outputs": [
    {
     "name": "stdout",
     "output_type": "stream",
     "text": [
      "Gamma =  0.8\n",
      "Accuracy =  0.5\n",
      "Confusion matrix : \n",
      "[[4. 0. 1. 1. 0. 0. 0. 0. 0. 0.]\n",
      " [0. 5. 0. 1. 0. 0. 0. 0. 0. 0.]\n",
      " [1. 0. 4. 0. 0. 0. 1. 0. 0. 0.]\n",
      " [0. 2. 0. 3. 0. 0. 0. 1. 0. 0.]\n",
      " [0. 0. 0. 0. 3. 3. 0. 0. 0. 0.]\n",
      " [0. 0. 0. 0. 2. 1. 0. 2. 1. 0.]\n",
      " [0. 0. 0. 0. 0. 0. 2. 0. 0. 4.]\n",
      " [0. 0. 0. 1. 0. 0. 0. 4. 1. 0.]\n",
      " [0. 0. 1. 0. 1. 0. 0. 3. 1. 0.]\n",
      " [0. 0. 0. 0. 0. 0. 3. 0. 0. 3.]]\n",
      "Gamma =  0.9\n",
      "Accuracy =  0.5666666666666667\n",
      "Confusion matrix : \n",
      "[[6. 0. 0. 0. 0. 0. 0. 0. 0. 0.]\n",
      " [0. 3. 0. 2. 0. 0. 0. 1. 0. 0.]\n",
      " [2. 0. 3. 1. 0. 0. 0. 0. 0. 0.]\n",
      " [0. 3. 0. 2. 0. 0. 0. 1. 0. 0.]\n",
      " [0. 0. 0. 0. 4. 2. 0. 0. 0. 0.]\n",
      " [0. 0. 0. 0. 1. 3. 0. 1. 1. 0.]\n",
      " [0. 0. 0. 0. 0. 0. 4. 0. 0. 2.]\n",
      " [0. 0. 0. 1. 0. 0. 0. 4. 1. 0.]\n",
      " [0. 0. 0. 1. 1. 0. 0. 1. 3. 0.]\n",
      " [0. 0. 0. 0. 0. 0. 4. 0. 0. 2.]]\n",
      "Gamma =  1\n",
      "Accuracy =  0.8166666666666667\n",
      "Confusion matrix : \n",
      "[[6. 0. 0. 0. 0. 0. 0. 0. 0. 0.]\n",
      " [0. 6. 0. 0. 0. 0. 0. 0. 0. 0.]\n",
      " [0. 0. 5. 1. 0. 0. 0. 0. 0. 0.]\n",
      " [0. 5. 0. 1. 0. 0. 0. 0. 0. 0.]\n",
      " [0. 0. 0. 0. 6. 0. 0. 0. 0. 0.]\n",
      " [0. 0. 0. 0. 0. 6. 0. 0. 0. 0.]\n",
      " [0. 0. 0. 0. 0. 0. 5. 0. 0. 1.]\n",
      " [0. 0. 0. 1. 0. 0. 0. 5. 0. 0.]\n",
      " [0. 0. 0. 0. 0. 0. 0. 0. 5. 1.]\n",
      " [0. 0. 0. 0. 0. 0. 2. 0. 0. 4.]]\n",
      "Gamma =  1.1\n",
      "Accuracy =  0.6166666666666667\n",
      "Confusion matrix : \n",
      "[[3. 1. 0. 1. 0. 0. 0. 1. 0. 0.]\n",
      " [0. 5. 0. 1. 0. 0. 0. 0. 0. 0.]\n",
      " [0. 3. 1. 1. 0. 0. 0. 0. 0. 1.]\n",
      " [0. 4. 1. 1. 0. 0. 0. 0. 0. 0.]\n",
      " [0. 1. 0. 0. 5. 0. 0. 0. 0. 0.]\n",
      " [0. 0. 0. 0. 1. 3. 1. 1. 0. 0.]\n",
      " [0. 0. 0. 0. 0. 0. 5. 0. 0. 1.]\n",
      " [0. 1. 0. 0. 0. 0. 0. 5. 0. 0.]\n",
      " [0. 1. 0. 0. 0. 0. 0. 0. 5. 0.]\n",
      " [0. 0. 0. 0. 0. 0. 2. 0. 0. 4.]]\n",
      "Gamma =  1.2\n",
      "Accuracy =  0.7666666666666667\n",
      "Confusion matrix : \n",
      "[[3. 0. 0. 1. 0. 1. 0. 1. 0. 0.]\n",
      " [0. 6. 0. 0. 0. 0. 0. 0. 0. 0.]\n",
      " [0. 2. 3. 1. 0. 0. 0. 0. 0. 0.]\n",
      " [0. 3. 0. 3. 0. 0. 0. 0. 0. 0.]\n",
      " [0. 1. 0. 0. 5. 0. 0. 0. 0. 0.]\n",
      " [0. 0. 0. 0. 0. 6. 0. 0. 0. 0.]\n",
      " [0. 0. 0. 0. 0. 0. 6. 0. 0. 0.]\n",
      " [0. 1. 0. 0. 0. 0. 0. 5. 0. 0.]\n",
      " [0. 0. 0. 0. 0. 1. 0. 0. 4. 1.]\n",
      " [0. 0. 0. 0. 0. 0. 1. 0. 0. 5.]]\n"
     ]
    }
   ],
   "source": [
    "# Apply prot 1 to SIG2 for diff gamma\n",
    "files = glob.glob('/home/jean/Downloads/Data/Data/SIG2/*')\n",
    "\n",
    "for gamma in [0.8,0.9,1,1.1,1.2]:\n",
    "    gam,acc,cm = protocol_1(files,gamma)\n",
    "    print('Gamma = ', gam)\n",
    "    print('Accuracy = ', acc)\n",
    "    print('Confusion matrix : ')\n",
    "    print(cm)"
   ]
  },
  {
   "cell_type": "markdown",
   "metadata": {},
   "source": [
    "### Protocol 2 \n",
    "\n",
    "A database containing only one pronunciation of each number is used as a training database.\n",
    "The remaining repetitions are used for the test set. This procedure aims at evaluating the generalization capabilities of the recognition system."
   ]
  },
  {
   "cell_type": "code",
   "execution_count": 258,
   "metadata": {},
   "outputs": [],
   "source": [
    "def protocol_2(files, gamma):\n",
    "    \n",
    "    random.shuffle(files)\n",
    "    \n",
    "    conf_matrix_1 = np.zeros((10,10))\n",
    "    \n",
    "    references = []\n",
    "    idx = 0\n",
    "    while len(references) < 10:\n",
    "        for i in files:\n",
    "            if int(i[-5]) == idx:\n",
    "                references.append(i)\n",
    "                files.remove(i)\n",
    "                idx += 1\n",
    "                \n",
    "    for i in files:\n",
    "        X_test = cepstral(i)\n",
    "        true_label = int(i[-5])\n",
    "        d_min = 10000\n",
    "        label = None\n",
    "        for j in references:                \n",
    "            Y_train = cepstral(j)\n",
    "            if d_min > align(X_test,Y_train,gamma)[0]:\n",
    "                d_min = align(X_test,Y_train,gamma)[0]\n",
    "                label = int(j[-5])            \n",
    "        conf_matrix_1[true_label,label] +=1\n",
    "        \n",
    "    return(gamma,np.trace(conf_matrix_1)/len(files),conf_matrix_1)\n",
    "    "
   ]
  },
  {
   "cell_type": "code",
   "execution_count": 259,
   "metadata": {},
   "outputs": [
    {
     "name": "stdout",
     "output_type": "stream",
     "text": [
      "Gamma =  1\n",
      "Accuracy =  0.5818181818181818\n",
      "Confusion matrix : \n",
      "[[ 6.  5.  0.  0.  0.  0.  0.  0.  0.  0.]\n",
      " [ 0.  9.  0.  2.  0.  0.  0.  0.  0.  0.]\n",
      " [ 1.  4.  5.  0.  0.  0.  0.  0.  0.  1.]\n",
      " [ 0.  3.  0.  8.  0.  0.  0.  0.  0.  0.]\n",
      " [ 0.  1.  0.  0. 10.  0.  0.  0.  0.  0.]\n",
      " [ 0.  2.  0.  0.  0.  9.  0.  0.  0.  0.]\n",
      " [ 1.  0.  0.  0.  0.  0.  9.  0.  0.  1.]\n",
      " [ 0.  2.  0.  0.  5.  1.  0.  0.  3.  0.]\n",
      " [ 0.  1.  0.  0.  1.  1.  1.  0.  7.  0.]\n",
      " [ 0.  3.  0.  0.  0.  0.  7.  0.  0.  1.]]\n"
     ]
    }
   ],
   "source": [
    "files = glob.glob('/home/jean/Downloads/Data/Data/SIG/*')\n",
    "\n",
    "gam, acc, cm = protocol_2(files, gamma=1)\n",
    "print('Gamma = ', gam)\n",
    "print('Accuracy = ', acc)\n",
    "print('Confusion matrix : ')\n",
    "print(cm)"
   ]
  },
  {
   "cell_type": "markdown",
   "metadata": {},
   "source": [
    "Considering the small size of the training set, the generaliztion is quite OK since we have 58% after seing only one label and random guess is 10%."
   ]
  },
  {
   "cell_type": "code",
   "execution_count": 260,
   "metadata": {},
   "outputs": [
    {
     "name": "stdout",
     "output_type": "stream",
     "text": [
      "Gamma =  1\n",
      "Accuracy =  0.62\n",
      "Confusion matrix : \n",
      "[[3. 1. 1. 0. 0. 0. 0. 0. 0. 0.]\n",
      " [0. 3. 0. 2. 0. 0. 0. 0. 0. 0.]\n",
      " [0. 1. 1. 3. 0. 0. 0. 0. 0. 0.]\n",
      " [0. 0. 1. 4. 0. 0. 0. 0. 0. 0.]\n",
      " [0. 0. 0. 0. 5. 0. 0. 0. 0. 0.]\n",
      " [0. 1. 0. 0. 1. 3. 0. 0. 0. 0.]\n",
      " [0. 0. 0. 0. 0. 0. 0. 0. 0. 5.]\n",
      " [0. 1. 0. 0. 0. 0. 0. 4. 0. 0.]\n",
      " [0. 0. 0. 0. 0. 0. 0. 0. 4. 1.]\n",
      " [0. 0. 0. 0. 0. 0. 1. 0. 0. 4.]]\n"
     ]
    }
   ],
   "source": [
    "files = glob.glob('/home/jean/Downloads/Data/Data/SIG2/*')\n",
    "\n",
    "gam, acc, cm = protocol_2(files, gamma=1)\n",
    "print('Gamma = ', gam)\n",
    "print('Accuracy = ', acc)\n",
    "print('Confusion matrix : ')\n",
    "print(cm)"
   ]
  },
  {
   "cell_type": "markdown",
   "metadata": {},
   "source": [
    "It is even better for SIG2."
   ]
  },
  {
   "cell_type": "markdown",
   "metadata": {},
   "source": [
    "### Protocol 3 \n",
    "\n",
    "The first half of the database of SIG_MIXED is used as a training database and the second\n",
    "half as the test database. The procedure is repeated by inversing the role of the two sets. This\n",
    "procedure aims at evaluating the generalization capabilities on a database containing data from the\n",
    "two speakers."
   ]
  },
  {
   "cell_type": "code",
   "execution_count": 269,
   "metadata": {},
   "outputs": [],
   "source": [
    "def protocol_3(files, gamma):\n",
    "    \n",
    "    random.shuffle(files)\n",
    "\n",
    "    train_files_1 = files[0:int(0.5*len(files))]\n",
    "    test_files_1 = files[int(0.5*len(files)):len(files)]\n",
    "    \n",
    "    test_files_2 = files[0:int(0.5*len(files))]\n",
    "    train_files_2 = files[int(0.5*len(files)):len(files)]\n",
    "    \n",
    "    conf_matrix_1 = np.zeros((10,10))\n",
    "    conf_matrix_2 = np.zeros((10,10))\n",
    "\n",
    "    for i in test_files_1:\n",
    "        X_test = cepstral(i)\n",
    "        true_label = int(i[-5])\n",
    "        d_min = 10000\n",
    "        label = None\n",
    "        for j in train_files_1:                \n",
    "            Y_train = cepstral(j)\n",
    "            if d_min > align(X_test,Y_train,gamma)[0]:\n",
    "                d_min = align(X_test,Y_train,gamma)[0]\n",
    "                label = int(j[-5])            \n",
    "        conf_matrix_1[true_label,label] +=1\n",
    "\n",
    "    for i in test_files_2:\n",
    "        X_test = cepstral(i)\n",
    "        true_label = int(i[-5])\n",
    "        d_min = 10000\n",
    "        label = None\n",
    "        for j in train_files_2:                \n",
    "            Y_train = cepstral(j)\n",
    "            if d_min > align(X_test,Y_train,gamma)[0]:\n",
    "                d_min = align(X_test,Y_train,gamma)[0]\n",
    "                label = int(j[-5])            \n",
    "        conf_matrix_2[true_label,label] +=1\n",
    "        \n",
    "    return(gamma,np.trace(conf_matrix_1 + conf_matrix_2)/len(files),conf_matrix_1 + conf_matrix_2)\n",
    "    "
   ]
  },
  {
   "cell_type": "code",
   "execution_count": 270,
   "metadata": {},
   "outputs": [
    {
     "name": "stdout",
     "output_type": "stream",
     "text": [
      "Gamma =  1\n",
      "Accuracy =  0.5666666666666667\n",
      "Confusion matrix : \n",
      "[[8. 4. 0. 0. 0. 0. 0. 0. 0. 0.]\n",
      " [0. 8. 1. 0. 0. 0. 1. 1. 0. 1.]\n",
      " [0. 6. 6. 0. 0. 0. 0. 0. 0. 0.]\n",
      " [0. 4. 1. 7. 0. 0. 0. 0. 0. 0.]\n",
      " [0. 0. 0. 0. 9. 1. 0. 2. 0. 0.]\n",
      " [0. 0. 0. 0. 1. 8. 0. 1. 2. 0.]\n",
      " [2. 5. 1. 1. 0. 0. 1. 0. 0. 2.]\n",
      " [0. 1. 0. 0. 0. 3. 0. 6. 2. 0.]\n",
      " [0. 0. 0. 0. 0. 0. 0. 2. 9. 1.]\n",
      " [0. 4. 0. 0. 0. 0. 1. 0. 1. 6.]]\n"
     ]
    }
   ],
   "source": [
    "files = glob.glob('/home/jean/Downloads/Data/Data/SIGMIX/*')\n",
    "\n",
    "gam, acc, cm = protocol_3(files, gamma=1)\n",
    "print('Gamma = ', gam)\n",
    "print('Accuracy = ', acc)\n",
    "print('Confusion matrix : ')\n",
    "print(cm)"
   ]
  },
  {
   "cell_type": "markdown",
   "metadata": {},
   "source": [
    "From my understanding, DTW will help us to match some charasteristic features as we can see with protocol_2. Indeed after seing only one time a label we have some results. However by seing a way more label, as in protocol 1, we do not have much more performance on the classifying task. The same idea is shown in the protocol 3 were the fact that two speaker are present give us lower result.\n",
    "\n",
    "So DTW will match most important features but after one big step (1rst seen) it doesn't improve much. Even worst, this method is not good at all from a flexibility perspective, indeed if we have several speakers with different accent for example, result will be quite poor. An idea to improve it would be to use a weighted version or HMM and train it. "
   ]
  }
 ],
 "metadata": {
  "kernelspec": {
   "display_name": "Python 3",
   "language": "python",
   "name": "python3"
  },
  "language_info": {
   "codemirror_mode": {
    "name": "ipython",
    "version": 3
   },
   "file_extension": ".py",
   "mimetype": "text/x-python",
   "name": "python",
   "nbconvert_exporter": "python",
   "pygments_lexer": "ipython3",
   "version": "3.7.3"
  }
 },
 "nbformat": 4,
 "nbformat_minor": 2
}
