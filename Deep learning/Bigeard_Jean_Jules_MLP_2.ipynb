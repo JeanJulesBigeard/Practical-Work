{
 "cells": [
  {
   "cell_type": "markdown",
   "metadata": {
    "colab_type": "text",
    "id": "k4fnzJJDo60Y"
   },
   "source": [
    "# Lab Deep Learning / Multi-Layer Perceptron for binary-classification / in pytorch\n",
    "\n",
    "**Author: geoffroy.peeters@telecom-paris.fr**\n",
    "\n",
    "For any remark or suggestion, please feel free to contact me.\n",
    "\n",
    "\n",
    "\n",
    "## Objective:\n",
    "\n",
    "The objective of this lab is to develop a two hidden layers MLP to perform **binary classification**.\n",
    "\n",
    "We will use a MLP with 2 hidden layer with $n_{h1}=20$ and $n_{h2}=10$ hidden units and ```relu``` activation functions.\n",
    "You will perform 1000 iterations (epochs) of SGD to find the parameters.\n",
    "\n",
    "Note: for this lab, we do not separate the dataset into a train, validation and test part.\n",
    "\n",
    "### Data normalization\n",
    "\n",
    "You should normalize the data to zero mean and unit standard deviation\n",
    "\n",
    "### Model\n",
    "\n",
    "There are various ways to write NN model in pytorch. \n",
    "\n",
    "In this lab, you will write three different implementations:\n",
    "- **Model A**: manually defining the parameters (W1,b1,W2,b2,W3,b3), writing the forward equations, writting the loss equation, calling the .backward() and manually updating the weights using W1.grad. You will write the loop to perform 1000 epochs.\n",
    "- **Model B**: using the Sequential class of pytorch\n",
    "- **Model C**: a custom torch.nn.Module class for this.\n",
    "\n",
    "For Model B and C, you will use the ready made loss and optimization from the nn and optim packages. You can use the same code to optimize the parameters of Model B and C.\n",
    "\n",
    "### Loss\n",
    "\n",
    "Since we are dealing with a binary classification problem, we will use a Binary Cross Entropy loss (use ```torch.nn.BCELoss``` for Model B and C).\n",
    "\n",
    "### Parameters update/ Optimization\n",
    "\n",
    "For updating the parameters, we will use as optimizer a simple SGD algorithm (use ```torch.optim.SGD``` for Model B and C) with a learning rate of 0.1.\n",
    "\n",
    "Don't forget that an optimizer is applied to a set of parameters (```my_model.parameters()``` gives the parameters of the network for Model B and C).\n",
    "Once the gradients have been computed (after the backpropagation has been performed), you can perform one step of optimization (using ```optimizer.step()``` for Model B and C).\n",
    "\n",
    "### Backward propagation\n",
    "\n",
    "Backpropagation is automatically performed in pytorch using the ```autograd``` package. \n",
    "First, reset the gradients of all parameters (using ```optimizer.zero_grad()``` for Model B and C), then perform the backpropagation ```loss.backward()```. \n",
    "\n",
    "## Your task:\n",
    "\n",
    "You need to add the missing parts in the code (parts between ```# --- START CODE HERE``` and ```# --- END CODE HERE```)\n",
    "\n",
    "## Documentation:\n",
    "- NN: https://pytorch.org/docs/stable/nn.html\n",
    "- Autograd: https://pytorch.org/docs/stable/autograd.html\n",
    "- Optim: https://pytorch.org/docs/stable/optim.html\n"
   ]
  },
  {
   "cell_type": "markdown",
   "metadata": {
    "colab_type": "text",
    "id": "tuvU8y2Lo60Z"
   },
   "source": [
    "## Load the python packages"
   ]
  },
  {
   "cell_type": "code",
   "execution_count": 28,
   "metadata": {
    "colab": {},
    "colab_type": "code",
    "id": "I1VTuwVio60a"
   },
   "outputs": [],
   "source": [
    "import torch\n",
    "import torch.nn as nn\n",
    "import torch.nn.functional as F\n",
    "import torch.optim as optim\n",
    "from torch.autograd import Variable\n",
    "\n",
    "import numpy as np\n",
    "import matplotlib.pyplot as plt\n",
    "\n",
    "student = True"
   ]
  },
  {
   "cell_type": "code",
   "execution_count": 29,
   "metadata": {
    "colab": {
     "base_uri": "https://localhost:8080/",
     "height": 34
    },
    "colab_type": "code",
    "id": "Zof__thjo60d",
    "outputId": "09947749-2415-493d-d746-050bf0670ec2"
   },
   "outputs": [
    {
     "name": "stdout",
     "output_type": "stream",
     "text": [
      "1.3.1\n"
     ]
    }
   ],
   "source": [
    "print(torch.__version__)"
   ]
  },
  {
   "cell_type": "markdown",
   "metadata": {
    "colab_type": "text",
    "id": "Bsb-phrJo60g"
   },
   "source": [
    "## Dataset\n",
    "\n",
    "We take the usual circle dataset from sklearn."
   ]
  },
  {
   "cell_type": "code",
   "execution_count": 30,
   "metadata": {
    "colab": {},
    "colab_type": "code",
    "id": "Otam7ukPo60g"
   },
   "outputs": [],
   "source": [
    "from sklearn import datasets\n",
    "X_np, y_np = datasets.make_circles(n_samples=1000, noise=0.2, factor=0.5)"
   ]
  },
  {
   "cell_type": "markdown",
   "metadata": {
    "colab_type": "text",
    "id": "-5idAV4Co60i"
   },
   "source": [
    "We convert the ```numpy tensors``` to ```torch tensors```. \n",
    "The difference being that the latters allows to do automatic gradient differentiation (back-propagation)."
   ]
  },
  {
   "cell_type": "code",
   "execution_count": 31,
   "metadata": {
    "colab": {},
    "colab_type": "code",
    "id": "rPxnzVSDo60j"
   },
   "outputs": [],
   "source": [
    "X = torch.from_numpy(X_np).float()\n",
    "y = torch.from_numpy(y_np).float()\n",
    "y = y.view(len(y), 1)"
   ]
  },
  {
   "cell_type": "code",
   "execution_count": 32,
   "metadata": {
    "colab": {
     "base_uri": "https://localhost:8080/",
     "height": 85
    },
    "colab_type": "code",
    "id": "YHgd8JYPo60l",
    "outputId": "d273d301-ebb5-448e-9084-08b8e0f73f16"
   },
   "outputs": [
    {
     "name": "stdout",
     "output_type": "stream",
     "text": [
      "torch.Size([1000, 2])\n",
      "torch.Size([1000, 1])\n",
      "tensor([ 0.0001, -0.0036])\n",
      "tensor([0.5935, 0.5971])\n"
     ]
    }
   ],
   "source": [
    "print(X.size())\n",
    "print(y.size())\n",
    "print(X.mean(dim=0))\n",
    "print(X.std(dim=0))"
   ]
  },
  {
   "cell_type": "markdown",
   "metadata": {
    "colab_type": "text",
    "id": "Unp-3kjjo60n"
   },
   "source": [
    "## Normalization"
   ]
  },
  {
   "cell_type": "code",
   "execution_count": 33,
   "metadata": {
    "colab": {
     "base_uri": "https://localhost:8080/",
     "height": 51
    },
    "colab_type": "code",
    "id": "6rIwFaauo60n",
    "outputId": "c408850f-62b6-4459-c6df-5350fac5f4b8"
   },
   "outputs": [
    {
     "name": "stdout",
     "output_type": "stream",
     "text": [
      "tensor([-4.4107e-09,  1.7524e-08])\n",
      "tensor([1., 1.])\n"
     ]
    }
   ],
   "source": [
    "X -= X.mean(dim=0)\n",
    "X /= X.std(dim=0)\n",
    "print(X.mean(dim=0))\n",
    "print(X.std(dim=0))"
   ]
  },
  {
   "cell_type": "markdown",
   "metadata": {
    "colab_type": "text",
    "id": "Rc3VgVWOo60p"
   },
   "source": [
    "## Definition of the hyper-parameters"
   ]
  },
  {
   "cell_type": "code",
   "execution_count": 34,
   "metadata": {
    "colab": {},
    "colab_type": "code",
    "id": "OrBQMqCJo60r"
   },
   "outputs": [],
   "source": [
    "n_in = X.shape[1]\n",
    "n_h1 = 20\n",
    "n_h2 = 10\n",
    "n_out = 1\n",
    "\n",
    "nb_epoch = 10000\n",
    "alpha = 0.1"
   ]
  },
  {
   "cell_type": "markdown",
   "metadata": {
    "colab_type": "text",
    "id": "CIzjntgZo60t"
   },
   "source": [
    "## Model 1 (writing the network equations)\n",
    "\n",
    "Here, you will define the variables and write the equations of the network yourself (as you would do in numpy).\n",
    "However you will use ```torch tensors``` instead of ```numpy array```. \n",
    "\n",
    "***Why ?*** because torch tensors will allows you to automatically get the gradient. You will use ```loss.backward``` to launch the backpropagation from ```loss```. Then, for all tensors you created and for which you declared ```requires_grad=True```, you will get the gradient of ```loss```with respect to this variable in the field ```.grad```. \n",
    "\n",
    "***Example*** ```W1 = torch.tensors(..., requires_grad=True)``` ... ```loss.backward``` will have the gradient $\\frac{d Loss}{d W1}$in ```W1.grad```.\n",
    "\n",
    "Don't forget that the weight $W_1, W_2, \\cdots$ matrices should be initialized randomly with small values; while the bias vectors $b_1, b_2, \\cdots$can be initialized to zero."
   ]
  },
  {
   "cell_type": "code",
   "execution_count": 35,
   "metadata": {
    "colab": {
     "base_uri": "https://localhost:8080/",
     "height": 411
    },
    "colab_type": "code",
    "id": "HB65rqW4o60u",
    "outputId": "32f47a63-c93d-492b-ebca-473a896697cd"
   },
   "outputs": [
    {
     "name": "stdout",
     "output_type": "stream",
     "text": [
      "epoch 0, loss 0.6931467056274414\n",
      "epoch 500, loss 0.6931460499763489\n",
      "epoch 1000, loss 0.6931450366973877\n",
      "epoch 1500, loss 0.6931437849998474\n",
      "epoch 2000, loss 0.6931416988372803\n",
      "epoch 2500, loss 0.6931385397911072\n",
      "epoch 3000, loss 0.693132758140564\n",
      "epoch 3500, loss 0.6931204199790955\n",
      "epoch 4000, loss 0.6930899024009705\n",
      "epoch 4500, loss 0.6929876804351807\n",
      "epoch 5000, loss 0.6923595070838928\n",
      "epoch 5500, loss 0.6641448736190796\n",
      "epoch 6000, loss 0.26868581771850586\n",
      "epoch 6500, loss 0.2503625452518463\n",
      "epoch 7000, loss 0.2489209920167923\n",
      "epoch 7500, loss 0.24842466413974762\n",
      "epoch 8000, loss 0.24815145134925842\n",
      "epoch 8500, loss 0.24797703325748444\n",
      "epoch 9000, loss 0.24784965813159943\n",
      "epoch 9500, loss 0.2477407157421112\n"
     ]
    }
   ],
   "source": [
    "# --- We first initialize the variables of the network (W1, b1, ...)\n",
    "if student:\n",
    "    # --- START CODE HERE (01)\n",
    "    W1 = torch.tensor(np.random.randn(n_in, n_h1) * 0.01).float()\n",
    "    W1.requires_grad = True\n",
    "    b1 = torch.tensor(np.zeros(shape=(1, n_h1))).float()\n",
    "    b1.requires_grad = True\n",
    "    \n",
    "    W2 = torch.tensor(np.random.randn(n_h1, n_h2) * 0.01).float()\n",
    "    W2.requires_grad = True\n",
    "    b2 = torch.tensor(np.zeros(shape=(1, n_h2))).float()\n",
    "    b2.requires_grad = True\n",
    "\n",
    "    W3 = torch.tensor(np.random.randn(n_h2, n_out) * 0.01).float()\n",
    "    W3.requires_grad = True\n",
    "    b3 = torch.tensor(np.zeros(shape=(1, n_out))).float()\n",
    "    b3.requires_grad = True\n",
    "    \n",
    "    # --- END CODE HERE\n",
    "\n",
    "# --- We then write a function to perform the forward pass (using pytorch opertaors, not numpy operators)\n",
    "# --- taking X as input and returing hat_y as output\n",
    "    \n",
    "def model(X):\n",
    "    if student:\n",
    "        # --- START CODE HERE (02)\n",
    "        A0 = X \n",
    "        Z1 = torch.mm(A0,W1)+b1\n",
    "        A1 = F.relu(Z1)\n",
    "        Z2 = torch.mm(A1,W2)+b2\n",
    "        A2 = F.relu(Z2)\n",
    "        Z3 = torch.mm(A2,W3)+b3\n",
    "        A3 = F.sigmoid(Z3)\n",
    "        hat_y = A3\n",
    "        # --- END CODE HERE\n",
    "       \n",
    "    return (hat_y)\n",
    "\n",
    "# --- We then iterate over epochs (we do not perform split into mini-batch here)\n",
    "# --- For each iteration, we\n",
    "# ---   a) perform the forward pass, \n",
    "# ---   b) compute the loss/cost, \n",
    "# ---   c) compute the backward pass to get the gradients of the cost w.r.t. the parameters W1, b1, ...\n",
    "# ---   d) perform the update of the parameters W1, b1, ...\n",
    "for num_epoch in range(0, nb_epoch):    \n",
    "\n",
    "    # --- a) Forward pass: X (n_in, N), hat_y (n_out, N)\n",
    "    hat_y = model(X)\n",
    "\n",
    "    # -- We clip hat_y in order to avoid log(0)\n",
    "    eps = 1e-10\n",
    "    hat_y = torch.clamp(hat_y, eps, 1-eps)\n",
    "    \n",
    "    # --- b) Computing the loss/cost\n",
    "    if student:\n",
    "        # --- START CODE HERE (03)\n",
    "        loss = -(y*torch.log(hat_y)+(1-y)*torch.log(1-hat_y))\n",
    "        cost = torch.mean(loss)\n",
    "        # --- END CODE HERE\n",
    "    \n",
    "    if num_epoch % 500 == 0:\n",
    "        print('epoch {}, loss {}'.format(num_epoch, cost))\n",
    "\n",
    "    # --- c) Backward pass\n",
    "    cost.backward()\n",
    "    \n",
    "    # --- \"with torch.no_grad()\" temporarily set all the requires_grad flag to false\n",
    "    with torch.no_grad():\n",
    "        # --- d) perform the update of the parameters W1, b1, ...\n",
    "        if student:\n",
    "            # --- the gradients dLoss/dW1 is stored in W1.grad, dLoss/db1 is stored in b1.grad, ...\n",
    "            # --- START CODE HERE (04)\n",
    "            W1 -= alpha*W1.grad\n",
    "            b1 -= alpha*b1.grad\n",
    "            W2 -= alpha*W2.grad\n",
    "            b2 -= alpha*b2.grad\n",
    "            W3 -= alpha*W3.grad\n",
    "            b3 -= alpha*b3.grad\n",
    "            # --- END CODE HERE\n",
    "\n",
    "    # --- We need to set to zero all gradients (otherwise they are cumulated)\n",
    "    W1.grad.zero_()\n",
    "    b1.grad.zero_()\n",
    "    W2.grad.zero_()\n",
    "    b2.grad.zero_()\n",
    "    W3.grad.zero_()\n",
    "    b3.grad.zero_()"
   ]
  },
  {
   "cell_type": "markdown",
   "metadata": {
    "colab_type": "text",
    "id": "lxgA4DXVo60w"
   },
   "source": [
    "## Model 2 (using nn.sequential)\n",
    "\n",
    "Here, you will use the package ```torch.nn``` which comes with a predefined set of layers. The syntax is close to the one of ```keras```(```Sequential```), but differs in the fact that layers are splitted into the matrix multiplication followed by a non-linear activations (```keras```merge both using the ```Dense```layers).\n",
    "\n",
    "The model created will have all its parameters accessible as a dictionary and can be accessed using ```model.parameters()```. It is therefore a convenient way to write simple sequential networks."
   ]
  },
  {
   "cell_type": "code",
   "execution_count": 36,
   "metadata": {
    "colab": {},
    "colab_type": "code",
    "id": "elGQpQzjo60x"
   },
   "outputs": [],
   "source": [
    "if student:\n",
    "    # --- START CODE HERE (05)\n",
    "    my_model = nn.Sequential(nn.Linear(n_in, n_h1),\n",
    "                             nn.ReLU(),\n",
    "                             nn.Linear(n_h1, n_h2),\n",
    "                             nn.ReLU(),\n",
    "                             nn.Linear(n_h2, n_out),\n",
    "                             nn.Sigmoid())\n",
    "    # --- END CODE HERE"
   ]
  },
  {
   "cell_type": "markdown",
   "metadata": {
    "colab_type": "text",
    "id": "4twpnbEAo60z"
   },
   "source": [
    "## Model 3 (using a class definition)\n",
    "\n",
    "Here, you will write the network using the recommended pytroch way; i.e. by defining a class.\n",
    "This class inherit from the main class ```torch.nn.Module```.\n",
    "You only need to write the ```__init__``` method and the ```forward``` method.\n",
    "\n",
    "In object programming, the ```__init__``` method defines the attributes of your class. Since the attributes of your  network are the parameters to be trained (weights and biases), you should declare in the ```__init``` all the layers that involve parameters to be trained (mostly the ```Linear```layers which perform the matrix multiplication).\n",
    "\n",
    "The ```forward``` method contains the code of the forward pass itself. It can of course call attributes defined in the ```__init___``` method. It is the method used when calling ```model(x)```.\n",
    "\n",
    "As before, the model created will have all its parameters accessible as a dictionary and can be accessed using ```model.parameters()```. \n",
    "\n",
    "Classes are convenient way to write more complex network than what you can do with ```nn.sequential```. Note that you can actually include a ```nn.sequential``` in your class."
   ]
  },
  {
   "cell_type": "code",
   "execution_count": 37,
   "metadata": {
    "colab": {},
    "colab_type": "code",
    "id": "ZNsNkq9Do60z"
   },
   "outputs": [],
   "source": [
    "class Net(torch.nn.Module):\n",
    "    def __init__(self, n_in, n_h1, n_h2, n_out):\n",
    "        super(Net, self).__init__()\n",
    "        \n",
    "        if student:\n",
    "            # --- START CODE HERE (06)\n",
    "            self.fc1 = nn.Linear(n_in, n_h1) # hidden layer 1\n",
    "            self.fc2 = nn.Linear(n_h1, n_h2) # hidden layer 2\n",
    "            self.fc3 = nn.Linear(n_h2, n_out)  # output layer\n",
    "            # --- END CODE HERE\n",
    "        \n",
    "    def forward(self, X):\n",
    "        \n",
    "        if student:\n",
    "            # --- START CODE HERE (07)\n",
    "            A0 = X\n",
    "            A1 = F.relu(self.fc1(X))   # activation function for hidden layer 1\n",
    "            A2 = F.relu(self.fc2(A1))   # activation function for hidden layer 2\n",
    "            A3 = F.sigmoid(self.fc3(A2)) # activation function for output layer\n",
    "            # --- END CODE HERE\n",
    "\n",
    "        return A3\n",
    "\n",
    "# --- START CODE HERE\n",
    "my_model = Net(n_in, n_h1, n_h2, n_out)\n",
    "# --- END CODE HERE"
   ]
  },
  {
   "cell_type": "markdown",
   "metadata": {
    "colab_type": "text",
    "id": "ts4aVeIPo601"
   },
   "source": [
    "## Criterion and Optimization for model 2 and model 3\n",
    "\n",
    "The code of Model 1 is self-contained, i.e. it already contains all necessary instruction to perform forawrd, loss, backward and parameter updates.\n",
    "\n",
    "When using ```nn.sequential``` (model 2) or a class definition of the network (model 3), we still need to define \n",
    "- what we will minimize (the loss to be minimized, i.e. Binary-Cross-Entropy). We can of course write the equation of it by hand but pytorch comes with a very large number of pre-build loss functions (within ```torch.nn```)\n",
    "- how we will minimize the loss, i.e. what parameter update algorithms we will use (SGD, momentum). We can of course write the equation of it by hand but pytorch comes with a very large number of pre-build loss functions (within ```torch.nn```)"
   ]
  },
  {
   "cell_type": "code",
   "execution_count": 38,
   "metadata": {
    "colab": {},
    "colab_type": "code",
    "id": "xs63V-Wgo602"
   },
   "outputs": [],
   "source": [
    "if student:\n",
    "    # --- START CODE HERE (08)\n",
    "    criterion = nn.BCELoss()\n",
    "    optimizer =  optim.SGD(my_model.parameters(), lr=0.01, momentum=0.9)\n",
    "    # --- END CODE HERE"
   ]
  },
  {
   "cell_type": "markdown",
   "metadata": {
    "colab_type": "text",
    "id": "qL7ePZi9o604"
   },
   "source": [
    "## Training for model 2 and 3"
   ]
  },
  {
   "cell_type": "markdown",
   "metadata": {
    "colab_type": "text",
    "id": "XamuBM_ho604"
   },
   "source": [
    "Having defined the network, the citerion to be minimized and the optimizer, we then perform a loop over epochs (iterations); at each step we\n",
    "- compute the forward pass by passing the data to the model: ```haty = model(x)```\n",
    "- compute the the loss (the criterion)\n",
    "- putting at zero the gradients of all the parameters of the network (this is important since, by default, pytorch accumulate the gradients over time)\n",
    "- computing the backpropagation (using as before ```.backward()```)\n",
    "- performing one step of optimization (using ```.step()```)"
   ]
  },
  {
   "cell_type": "code",
   "execution_count": 39,
   "metadata": {
    "colab": {
     "base_uri": "https://localhost:8080/",
     "height": 626
    },
    "colab_type": "code",
    "id": "rKfrD8V3o605",
    "outputId": "407d92a0-aa42-4860-faf0-89f608045957"
   },
   "outputs": [
    {
     "name": "stdout",
     "output_type": "stream",
     "text": [
      "epoch 0, loss 0.6929848790168762\n",
      "epoch 500, loss 0.25407201051712036\n",
      "epoch 1000, loss 0.2478378862142563\n",
      "epoch 1500, loss 0.2473299652338028\n",
      "epoch 2000, loss 0.24690794944763184\n",
      "epoch 2500, loss 0.24640510976314545\n",
      "epoch 3000, loss 0.24578718841075897\n",
      "epoch 3500, loss 0.24549879133701324\n",
      "epoch 4000, loss 0.24534521996974945\n",
      "epoch 4500, loss 0.24521145224571228\n",
      "epoch 5000, loss 0.2450850009918213\n",
      "epoch 5500, loss 0.24496464431285858\n",
      "epoch 6000, loss 0.24484799802303314\n",
      "epoch 6500, loss 0.24473807215690613\n",
      "epoch 7000, loss 0.24463117122650146\n",
      "epoch 7500, loss 0.24452677369117737\n",
      "epoch 8000, loss 0.24441461265087128\n",
      "epoch 8500, loss 0.24431392550468445\n",
      "epoch 9000, loss 0.24421462416648865\n",
      "epoch 9500, loss 0.24411724507808685\n"
     ]
    },
    {
     "data": {
      "text/plain": [
       "[<matplotlib.lines.Line2D at 0x7f407e485780>]"
      ]
     },
     "execution_count": 39,
     "metadata": {},
     "output_type": "execute_result"
    },
    {
     "data": {
      "image/png": "[encoded data removed]",
      "text/plain": [
       "<Figure size 432x288 with 1 Axes>"
      ]
     },
     "metadata": {
      "needs_background": "light"
     },
     "output_type": "display_data"
    }
   ],
   "source": [
    "loss_l = []\n",
    "for num_epoch in range(nb_epoch):\n",
    "  \n",
    "    if student:\n",
    "        # --- START CODE HERE (09)\n",
    "        haty = my_model(X) # Forward pass: Compute predicted y by passing  x to the model          \n",
    "        loss = criterion(haty,y) # Compute loss \n",
    "        # Zero gradients, perform a backward pass, and update the weights. \n",
    "        optimizer.zero_grad() # re-init the gradients (otherwise they are cumulated)\n",
    "        loss.backward() # perform back-propagation\n",
    "        optimizer.step() # update the weights\n",
    "        # --- END CODE HERE\n",
    "        \n",
    "    loss_l.append(loss)\n",
    "\n",
    "    if num_epoch % 500 == 0:\n",
    "        print('epoch {}, loss {}'.format(num_epoch, loss.item()))\n",
    "        \n",
    "# ----------------\n",
    "plt.plot(loss_l)        "
   ]
  },
  {
   "cell_type": "code",
   "execution_count": null,
   "metadata": {},
   "outputs": [],
   "source": []
  }
 ],
 "metadata": {
  "colab": {
   "collapsed_sections": [],
   "name": "IA306_20192010_Lab_MLP_pytorch.ipynb",
   "provenance": []
  },
  "kernelspec": {
   "display_name": "Python 3",
   "language": "python",
   "name": "python3"
  },
  "language_info": {
   "codemirror_mode": {
    "name": "ipython",
    "version": 3
   },
   "file_extension": ".py",
   "mimetype": "text/x-python",
   "name": "python",
   "nbconvert_exporter": "python",
   "pygments_lexer": "ipython3",
   "version": "3.7.3"
  },
  "toc": {
   "base_numbering": 1,
   "nav_menu": {},
   "number_sections": true,
   "sideBar": true,
   "skip_h1_title": false,
   "title_cell": "Table of Contents",
   "title_sidebar": "Contents",
   "toc_cell": false,
   "toc_position": {},
   "toc_section_display": true,
   "toc_window_display": true
  }
 },
 "nbformat": 4,
 "nbformat_minor": 1
}
