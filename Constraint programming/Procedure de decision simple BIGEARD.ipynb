{
 "cells": [
  {
   "cell_type": "code",
   "execution_count": 1,
   "metadata": {},
   "outputs": [],
   "source": [
    "import numpy as np\n",
    "import itertools"
   ]
  },
  {
   "cell_type": "code",
   "execution_count": 2,
   "metadata": {},
   "outputs": [],
   "source": [
    "PCNF = \"\"\"c simple_v3_c2.cnf\n",
    "c\n",
    "p cnf 3 2\n",
    "1 -3 0\n",
    "2 3 -1 0\"\"\""
   ]
  },
  {
   "cell_type": "code",
   "execution_count": 3,
   "metadata": {},
   "outputs": [],
   "source": [
    "def eval_PL(PCNF, var):\n",
    "    \"\"\"\n",
    "    Imput:\n",
    "    - PCNF: PL in CNF\n",
    "    - var: variable interpretation as an array\n",
    "    \n",
    "    Output:\n",
    "    - Evaluation: True or false\n",
    "    \"\"\"\n",
    "    # Get number of variable and condition\n",
    "    for i in range(len(PCNF)):\n",
    "        if PCNF[i:i+5]==\"\"\"p cnf\"\"\":\n",
    "            # We use the structure to have access to what we need\n",
    "            n = int(PCNF[i+6])\n",
    "            c = int(PCNF[i+8])\n",
    "            causes = PCNF[i+9:]\n",
    "            \n",
    "    # Get all causes    \n",
    "    listofcauses = []\n",
    "    for i in range (len(causes)):\n",
    "        cause = []\n",
    "        if causes[i:i+1]=='\\n':\n",
    "            j = 0\n",
    "            while causes[i+j+1]!='0':\n",
    "                j+=1\n",
    "                if causes[i+j]!=' ':\n",
    "                    cause.append(causes[i+j])\n",
    "        if cause!=[]:            \n",
    "            listofcauses.append(cause)\n",
    "    \n",
    "\n",
    "    # Create a validation matrix where each row is a cause and each column the variable state in this cause\n",
    "    # -1:False, 1:True, 0: True or False\n",
    "    \n",
    "    val_matrix = np.zeros((c,n))\n",
    "    \n",
    "    for i in range (c):\n",
    "        for j in range(len(listofcauses[i])):\n",
    "            if listofcauses[i][j] == '-':\n",
    "                val_matrix[i,int(listofcauses[i][j+1])-1] = -1\n",
    "            elif listofcauses[i][j-1] != '-':\n",
    "                val_matrix[i,int(listofcauses[i][j])-1] = 1\n",
    "    \n",
    "    # Checking the status\n",
    "    \n",
    "    status = True\n",
    "    for i in range (c):\n",
    "        if max(val_matrix[i]*var) != 1:\n",
    "            status = False\n",
    "    \n",
    "    return(status)\n",
    "        "
   ]
  },
  {
   "cell_type": "code",
   "execution_count": 4,
   "metadata": {},
   "outputs": [],
   "source": [
    "def all_var(n):\n",
    "    \"\"\"\n",
    "    Imput:\n",
    "    - n : number of variables\n",
    "    \n",
    "    Output:\n",
    "    - All possible combinations for n variables\n",
    "    \"\"\"\n",
    "    return(np.array(list(map(list, itertools.product([-1, 1], repeat=n)))))\n",
    "    "
   ]
  },
  {
   "cell_type": "code",
   "execution_count": 5,
   "metadata": {},
   "outputs": [],
   "source": [
    "def decision_process(PCNF):\n",
    "    \"\"\"\n",
    "    Imput:\n",
    "    -PCNF: PL in CNF\n",
    "    \n",
    "    Output:\n",
    "    -List of array: All possible combination for the PCNF\n",
    "    \"\"\"\n",
    "    for i in range(len(PCNF)):\n",
    "        if PCNF[i:i+5]==\"\"\"p cnf\"\"\":\n",
    "            # We use the structure to have access to what we need\n",
    "            n = int(PCNF[i+6])\n",
    "    \n",
    "    varset = all_var(n)\n",
    "    \n",
    "    lst=[]\n",
    "    \n",
    "    for v in varset:\n",
    "        if eval_PL(PCNF, v):\n",
    "            lst.append(v)\n",
    "    \n",
    "    return(lst)"
   ]
  },
  {
   "cell_type": "code",
   "execution_count": 6,
   "metadata": {},
   "outputs": [
    {
     "data": {
      "text/plain": [
       "[array([-1, -1, -1]),\n",
       " array([-1,  1, -1]),\n",
       " array([ 1, -1,  1]),\n",
       " array([ 1,  1, -1]),\n",
       " array([1, 1, 1])]"
      ]
     },
     "execution_count": 6,
     "metadata": {},
     "output_type": "execute_result"
    }
   ],
   "source": [
    "# If we take the given PCNF example, we get all the possbile combination\n",
    "\n",
    "decision_process(PCNF)"
   ]
  },
  {
   "cell_type": "code",
   "execution_count": 49,
   "metadata": {},
   "outputs": [],
   "source": [
    "# Here, we will take Alice, Benoıt, Christophe et David as 1 2 3 and 4 respectively\n",
    "\n",
    "PCNF_Q1 = \"\"\"c Q1.cnf\n",
    "c\n",
    "p cnf 4 4\n",
    "-1 2 0\n",
    "-2 -3 0\n",
    "4 0\n",
    "1 0\"\"\""
   ]
  },
  {
   "cell_type": "code",
   "execution_count": 50,
   "metadata": {},
   "outputs": [
    {
     "data": {
      "text/plain": [
       "[array([ 1,  1, -1,  1])]"
      ]
     },
     "execution_count": 50,
     "metadata": {},
     "output_type": "execute_result"
    }
   ],
   "source": [
    "\n",
    "decision_process(PCNF_Q1)"
   ]
  }
 ],
 "metadata": {
  "kernelspec": {
   "display_name": "Python 3",
   "language": "python",
   "name": "python3"
  },
  "language_info": {
   "codemirror_mode": {
    "name": "ipython",
    "version": 3
   },
   "file_extension": ".py",
   "mimetype": "text/x-python",
   "name": "python",
   "nbconvert_exporter": "python",
   "pygments_lexer": "ipython3",
   "version": "3.7.3"
  }
 },
 "nbformat": 4,
 "nbformat_minor": 2
}
