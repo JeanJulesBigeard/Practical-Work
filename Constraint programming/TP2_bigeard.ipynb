{
 "cells": [
  {
   "cell_type": "code",
   "execution_count": 1,
   "metadata": {},
   "outputs": [],
   "source": [
    "import sys\n",
    "import random"
   ]
  },
  {
   "cell_type": "markdown",
   "metadata": {},
   "source": [
    "DPLL and WalkSAT algo on the CNF from TP1\n",
    "\n",
    "    c simple_v3_c2.cnf\n",
    "    c\n",
    "    p cnf 3 2\n",
    "    1 -3 0\n",
    "    2 3 -1 0"
   ]
  },
  {
   "cell_type": "code",
   "execution_count": 51,
   "metadata": {},
   "outputs": [
    {
     "name": "stdout",
     "output_type": "stream",
     "text": [
      "SATISFIABLE:\n",
      "1 2 3\n"
     ]
    }
   ],
   "source": [
    "# DPLL\n",
    "\n",
    "clauses, nvars, lit_clause = parse('in.cnf')\n",
    "solution = backtracking(clauses, [])\n",
    "  \n",
    "if solution:\n",
    "    solution += [x for x in range(1, nvars + 1) if x not in solution and -x not in solution]\n",
    "    solution.sort(key=lambda x: abs(x))\n",
    "    print ('SATISFIABLE:')\n",
    "    print (' '.join([str(x) for x in solution]))\n",
    "else:\n",
    "    print ('UNSATISFIABLE')"
   ]
  },
  {
   "cell_type": "code",
   "execution_count": 38,
   "metadata": {},
   "outputs": [
    {
     "name": "stdout",
     "output_type": "stream",
     "text": [
      "SATISFIABLE\n",
      "1 2 3\n"
     ]
    }
   ],
   "source": [
    "# WalkSAT\n",
    "\n",
    "clauses, nvars, lit_clause = parse('in.cnf')\n",
    "solution = run_sat(clauses, nvars, lit_clause)\n",
    "\n",
    "if solution:\n",
    "    print ('SATISFIABLE')\n",
    "    print (' '.join(map(str, solution[1:])))\n",
    "else:\n",
    "    print ('UNSATISFIABLE')"
   ]
  },
  {
   "cell_type": "markdown",
   "metadata": {},
   "source": [
    "## DPLL\n",
    "\n",
    "Require: CNF formula F, empty model M\n",
    "\n",
    "Ensure: UNSAT or SAT with model M\n",
    "\n",
    "    procedure DPLL(F, M)\n",
    "        (F,M) ← UnitPropagate(F,M)\n",
    "        if All clauses are true in M then\n",
    "            return SAT\n",
    "        end if\n",
    "        if One clause is wrong in M then\n",
    "            return UNSAT\n",
    "        end if\n",
    "        \n",
    "        \n",
    "        l ← choose a literal not assigned in M\n",
    "        if DPLL(F,M ∪ {l}) = SAT then\n",
    "            return SAT\n",
    "        end if\n",
    "         return DPLL(F¬l,M ∪ {¬l})\n",
    "    end procedure\n",
    "    \n",
    "    procedure UNITPROGAGATE(F, M)\n",
    "        while F contains no empty clause but has a unit clause K with literal l do\n",
    "            F ← Fl\n",
    "            M ← M ∪ {l}\n",
    "        end while\n",
    "         return (F,M)\n",
    "    end procedure"
   ]
  },
  {
   "cell_type": "markdown",
   "metadata": {},
   "source": [
    "L'algorithme prend en entrée une formule de la logique propositionnelle en forme normale conjonctive. L'algorithme est basé sur une méthode de backtracking. Il procède en choisissant un littéral, lui affecte une valeur de vérité, simplifie la formule en conséquence, puis vérifie récursivement si la formule simplifiée est satisfaisable. Si c'est le cas, la formule originale l'est aussi, dans le cas contraire, la même vérification est faite en affectant la valeur de vérité contraire au littéral. Dans la terminologie de la littérature DPLL, c'est la conséquence d'une règle dite splitting rule (règle de séparation), et sépare le problème en deux sous problèmes.\n",
    "\n",
    "L'étape de simplification consiste essentiellement en la suppression de toutes les clauses rendues vraies par l'affectation courante, et tous les littéraux déduits faux à partir de l'ensemble des clauses restantes.\n",
    "\n",
    "DPLL étend l'algorithme de backtracking par l'utilisation des deux règles suivantes :\n",
    "\n",
    "La propagation unitaire\n",
    "Si une clause est unitaire, c'est-à-dire qu'elle contient un et un seul littéral, elle ne peut être satisfaite qu'en affectant l'unique valeur qui la rend vraie à son littéral. Il n'y a par conséquent plus à choisir. En pratique, son application entraîne une cascade d'autres clauses unitaires de manière déterministe, et évite donc d'explorer une grande partie de l'espace de recherche. Elle peut être vue comme une forme de propagation de contraintes.\n",
    "L'élimination des littéraux dits purs\n",
    "Si une variable propositionnelle apparaît seulement sous forme positive ou seulement sous forme négative alors ses littéraux sont dits purs. Les littéraux purs peuvent être affectés d'une manière qui rend toutes les clauses qui les contiennent vrais. Par conséquent ces clauses ne contraignent plus l'espace de recherche et peuvent être éliminées.\n",
    "L'incohérence d'une affectation partielle des variables est détectée quand une clause devient vide, c'est-à-dire quand les littéraux de la clause sont tous faux. La satisfiabilité d'une formule est déterminée quand toutes les variables sont affectées sans qu'une clause ne devienne vide, ou bien, dans les implémentations modernes de l'algorithme, quand toutes les clauses sont satisfaites. L'incohérence de la formule complète ne peut être déterminée qu'après une recherche exhaustive."
   ]
  },
  {
   "cell_type": "code",
   "execution_count": 2,
   "metadata": {},
   "outputs": [],
   "source": [
    "# Read DIMACS files\n",
    "\n",
    "def parse(filename):\n",
    "    clauses = []\n",
    "    count = 0\n",
    "    for line in open(filename):\n",
    "\n",
    "        if line[0] == 'c':\n",
    "            continue\n",
    "        if line[0] == 'p':\n",
    "            n_vars = int(line.split()[2])\n",
    "            lit_clause = [[] for _ in range(n_vars * 2 + 1)]\n",
    "            continue\n",
    "\n",
    "        clause = []\n",
    "        for literal in line[:-2].split():\n",
    "            literal = int(literal)\n",
    "            clause.append(literal)\n",
    "            lit_clause[literal].append(count)\n",
    "        clauses.append(clause)\n",
    "        count += 1\n",
    "    return clauses, int(n_vars), lit_clause"
   ]
  },
  {
   "cell_type": "code",
   "execution_count": 3,
   "metadata": {},
   "outputs": [],
   "source": [
    "# Propagation\n",
    "\n",
    "def bcp(cnf, unit):\n",
    "    modified = []\n",
    "    for clause in cnf:\n",
    "        if unit in clause: continue\n",
    "        if -unit in clause:\n",
    "            c = [x for x in clause if x != -unit]\n",
    "            if len(c) == 0: return -1\n",
    "            modified.append(c)\n",
    "        else:\n",
    "            modified.append(clause)\n",
    "    return modified\n"
   ]
  },
  {
   "cell_type": "code",
   "execution_count": 4,
   "metadata": {},
   "outputs": [],
   "source": [
    "# Count literals\n",
    "\n",
    "def get_counter(formula):\n",
    "    counter = {}\n",
    "    for clause in formula:\n",
    "        for literal in clause:\n",
    "            if literal in counter:\n",
    "                counter[literal] += 1\n",
    "            else:\n",
    "                counter[literal] = 1\n",
    "    return counter\n"
   ]
  },
  {
   "cell_type": "code",
   "execution_count": 5,
   "metadata": {},
   "outputs": [],
   "source": [
    "# Affect pure literal\n",
    "\n",
    "def pure_literal(formula):\n",
    "    counter = get_counter(formula)\n",
    "    assignment = []\n",
    "    pures = []\n",
    "    for literal, times in counter.items():\n",
    "        if -literal not in counter: pures.append(literal)\n",
    "    for pure in pures:\n",
    "        formula = bcp(formula, pure)\n",
    "    assignment += pures\n",
    "    return formula, assignment"
   ]
  },
  {
   "cell_type": "code",
   "execution_count": 6,
   "metadata": {},
   "outputs": [],
   "source": [
    "# Propagate unit\n",
    "\n",
    "def unit_propagation(formula):\n",
    "    assignment = []\n",
    "    unit_clauses = [c for c in formula if len(c) == 1]\n",
    "    while len(unit_clauses) > 0:\n",
    "        unit = unit_clauses[0]\n",
    "        formula = bcp(formula, unit[0])\n",
    "        assignment += [unit[0]]\n",
    "        if formula == -1:\n",
    "            return -1, []\n",
    "        if not formula:\n",
    "            return formula, assignment\n",
    "        unit_clauses = [c for c in formula if len(c) == 1]\n",
    "    return formula, assignment"
   ]
  },
  {
   "cell_type": "code",
   "execution_count": 7,
   "metadata": {},
   "outputs": [],
   "source": [
    "# Select literal\n",
    "\n",
    "def variable_selection(formula):\n",
    "    counter = get_counter(formula)\n",
    "    return random.choice(list(counter.keys()))"
   ]
  },
  {
   "cell_type": "code",
   "execution_count": 8,
   "metadata": {},
   "outputs": [],
   "source": [
    "def backtracking(formula, assignment):\n",
    "    formula, pure_assignment = pure_literal(formula)\n",
    "    formula, unit_assignment = unit_propagation(formula)\n",
    "    assignment = assignment + pure_assignment + unit_assignment\n",
    "    if formula == - 1:\n",
    "        return []\n",
    "    if not formula:\n",
    "        return assignment\n",
    "\n",
    "    variable = variable_selection(formula)\n",
    "    solution = backtracking(bcp(formula, variable), assignment + [variable])\n",
    "    if not solution:\n",
    "        solution = backtracking(bcp(formula, -variable), assignment + [-variable])\n",
    "    return solution"
   ]
  },
  {
   "cell_type": "markdown",
   "metadata": {},
   "source": [
    "## WalkSAT"
   ]
  },
  {
   "cell_type": "markdown",
   "metadata": {},
   "source": [
    " function WalkSAT(clauses, p, max-flips) returns a satisfying model or failure\n",
    "\n",
    "    inputs: clauses, a set of clauses in propositional logic\n",
    "            p, the probability of choosing to do a “random walk” move, typically around 0.5\n",
    "            max-flips, number of flips allowed before giving up\n",
    "    model ←a random assignment of true/false to the symbols in clauses\n",
    "    for i = 1 to max-flips do\n",
    "        if model satisfies clauses then return model\n",
    "        clause ←a randomly selected clause from clauses that is false in model\n",
    "        with probability p flip the value in model of a randomly selected symbol\n",
    "        \n",
    " from clause\n",
    "\n",
    "        else flip whichever symbol in clause maximizes the number of satisfied clauses\n",
    "    return failure"
   ]
  },
  {
   "cell_type": "code",
   "execution_count": 10,
   "metadata": {},
   "outputs": [],
   "source": [
    "def get_random_interpretation(n_vars):\n",
    "    return [i if random.random() < 0.5 else -i for i in range(n_vars + 1)]"
   ]
  },
  {
   "cell_type": "code",
   "execution_count": 11,
   "metadata": {},
   "outputs": [],
   "source": [
    "def get_true_sat_lit(clauses, interpretation):\n",
    "    true_sat_lit = [0 for _ in clauses]\n",
    "    for index, clause in enumerate(clauses):\n",
    "        for lit in clause:\n",
    "            if interpretation[abs(lit)] == lit:\n",
    "                true_sat_lit[index] += 1\n",
    "    return true_sat_lit"
   ]
  },
  {
   "cell_type": "code",
   "execution_count": 12,
   "metadata": {},
   "outputs": [],
   "source": [
    "def update_tsl(literal_to_flip, true_sat_lit, lit_clause):\n",
    "    for clause_index in lit_clause[literal_to_flip]:\n",
    "        true_sat_lit[clause_index] += 1\n",
    "    for clause_index in lit_clause[-literal_to_flip]:\n",
    "        true_sat_lit[clause_index] -= 1"
   ]
  },
  {
   "cell_type": "code",
   "execution_count": 16,
   "metadata": {},
   "outputs": [],
   "source": [
    "def compute_broken(clause, true_sat_lit, lit_clause, omega=0.4):\n",
    "    break_min = sys.maxsize\n",
    "    best_literals = []\n",
    "    for literal in clause:\n",
    "\n",
    "        break_score = 0\n",
    "\n",
    "        for clause_index in lit_clause[-literal]:\n",
    "            if true_sat_lit[clause_index] == 1:\n",
    "                break_score += 1\n",
    "\n",
    "        if break_score < break_min:\n",
    "            break_min = break_score\n",
    "            best_literals = [literal]\n",
    "        elif break_score == break_min:\n",
    "            best_literals.append(literal)\n",
    "\n",
    "    if break_min != 0 and random.random() < omega:\n",
    "        best_literals = clause\n",
    "\n",
    "    return random.choice(best_literals)"
   ]
  },
  {
   "cell_type": "code",
   "execution_count": 17,
   "metadata": {},
   "outputs": [],
   "source": [
    "def run_sat(clauses, n_vars, lit_clause, max_flips_proportion=4):\n",
    "    max_flips = n_vars * max_flips_proportion\n",
    "    while 1:\n",
    "        interpretation = get_random_interpretation(n_vars)\n",
    "        true_sat_lit = get_true_sat_lit(clauses, interpretation)\n",
    "        for _ in range(max_flips):\n",
    "\n",
    "            unsatisfied_clauses_index = [index for index, true_lit in enumerate(true_sat_lit) if\n",
    "                                         not true_lit]\n",
    "\n",
    "            if not unsatisfied_clauses_index:\n",
    "                return interpretation\n",
    "\n",
    "            clause_index = random.choice(unsatisfied_clauses_index)\n",
    "            unsatisfied_clause = clauses[clause_index]\n",
    "\n",
    "            lit_to_flip = compute_broken(unsatisfied_clause, true_sat_lit, lit_clause)\n",
    "\n",
    "            update_tsl(lit_to_flip, true_sat_lit, lit_clause)\n",
    "\n",
    "            interpretation[abs(lit_to_flip)] *= -1\n"
   ]
  }
 ],
 "metadata": {
  "kernelspec": {
   "display_name": "Python 3",
   "language": "python",
   "name": "python3"
  },
  "language_info": {
   "codemirror_mode": {
    "name": "ipython",
    "version": 3
   },
   "file_extension": ".py",
   "mimetype": "text/x-python",
   "name": "python",
   "nbconvert_exporter": "python",
   "pygments_lexer": "ipython3",
   "version": "3.7.3"
  }
 },
 "nbformat": 4,
 "nbformat_minor": 2
}
