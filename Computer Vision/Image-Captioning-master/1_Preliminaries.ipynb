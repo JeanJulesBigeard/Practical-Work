{
 "cells": [
  {
   "cell_type": "markdown",
   "metadata": {},
   "source": [
    "# Image Captioning\n",
    "\n",
    "---\n",
    "\n",
    "How to load and pre-process data from the [COCO dataset](http://cocodataset.org/#home). \n",
    "\n",
    "Feel free to use the links below to navigate the notebook:\n",
    "- [Step 1](#step1): Explore the Data Loader\n",
    "- [Step 2](#step2): Use the Data Loader to Obtain Batches\n",
    "- [Step 3](#step3): Experiment with the CNN Encoder\n",
    "- [Step 4](#step4): Implement the RNN Decoder"
   ]
  },
  {
   "cell_type": "markdown",
   "metadata": {},
   "source": [
    "<a id='step1'></a>\n",
    "## Step 1: Explore the Data Loader\n",
    "\n",
    "Use a [data loader](http://pytorch.org/docs/master/data.html#torch.utils.data.DataLoader) to load the COCO dataset in batches. \n",
    "\n",
    "Initialize the data loader by using the `get_loader` function in **data_loader.py**.  \n",
    "\n",
    "\n",
    "The `get_loader` function takes as input a number of arguments that can be explored in **data_loader.py**.  Take the time to explore these arguments now by opening **data_loader.py** in a new window.  Most of the arguments must be left at their default values, and you are only allowed to amend the values of the arguments below:\n",
    "1. **`transform`** - an [image transform](http://pytorch.org/docs/master/torchvision/transforms.html) specifying how to pre-process the images and convert them to PyTorch tensors before using them as input to the CNN encoder.  For now, you are encouraged to keep the transform as provided in `transform_train`.  You will have the opportunity later to choose your own image transform to pre-process the COCO images.\n",
    "2. **`mode`** - one of `'train'` (loads the training data in batches) or `'test'` (for the test data). We will say that the data loader is in training or test mode, respectively.  While following the instructions in this notebook, please keep the data loader in training mode by setting `mode='train'`.\n",
    "3. **`batch_size`** - determines the batch size.  When training the model, this is number of image-caption pairs used to amend the model weights in each training step.\n",
    "4. **`vocab_threshold`** - the total number of times that a word must appear in the in the training captions before it is used as part of the vocabulary.  Words that have fewer than `vocab_threshold` occurrences in the training captions are considered unknown words. \n",
    "5. **`vocab_from_file`** - a Boolean that decides whether to load the vocabulary from file.  \n",
    "\n",
    "We will describe the `vocab_threshold` and `vocab_from_file` arguments in more detail soon.  For now, run the code cell below.  Be patient - it may take a couple of minutes to run!"
   ]
  },
  {
   "cell_type": "code",
   "execution_count": 3,
   "metadata": {
    "scrolled": true
   },
   "outputs": [
    {
     "name": "stdout",
     "output_type": "stream",
     "text": [
      "Requirement already satisfied: nltk in /opt/conda/lib/python3.6/site-packages (3.2.5)\n",
      "Requirement already satisfied: six in /opt/conda/lib/python3.6/site-packages (from nltk) (1.11.0)\n",
      "[nltk_data] Downloading package punkt to /root/nltk_data...\n",
      "[nltk_data]   Package punkt is already up-to-date!\n",
      "loading annotations into memory...\n",
      "Done (t=0.86s)\n",
      "creating index...\n",
      "index created!\n",
      "[0/414113] Tokenizing captions...\n",
      "[100000/414113] Tokenizing captions...\n",
      "[200000/414113] Tokenizing captions...\n",
      "[300000/414113] Tokenizing captions...\n",
      "[400000/414113] Tokenizing captions...\n",
      "loading annotations into memory...\n"
     ]
    },
    {
     "name": "stderr",
     "output_type": "stream",
     "text": [
      "100%|██████████| 414113/414113 [01:34<00:00, 4390.40it/s]\n"
     ]
    },
    {
     "name": "stdout",
     "output_type": "stream",
     "text": [
      "Done (t=0.86s)\n",
      "creating index...\n",
      "index created!\n",
      "Obtaining caption lengths...\n"
     ]
    }
   ],
   "source": [
    "import sys\n",
    "sys.path.append('/opt/cocoapi/PythonAPI')\n",
    "from pycocotools.coco import COCO\n",
    "!pip install nltk\n",
    "import nltk\n",
    "nltk.download('punkt')\n",
    "from data_loader import get_loader\n",
    "from torchvision import transforms\n",
    "\n",
    "# Define a transform to pre-process the training images.\n",
    "transform_train = transforms.Compose([ \n",
    "    transforms.Resize(256),                          # smaller edge of image resized to 256\n",
    "    transforms.RandomCrop(224),                      # get 224x224 crop from random location\n",
    "    transforms.RandomHorizontalFlip(),               # horizontally flip image with probability=0.5\n",
    "    transforms.ToTensor(),                           # convert the PIL Image to a tensor\n",
    "    transforms.Normalize((0.485, 0.456, 0.406),      # normalize image for pre-trained model\n",
    "                         (0.229, 0.224, 0.225))])\n",
    "\n",
    "# Set the minimum word count threshold.\n",
    "vocab_threshold = 5\n",
    "\n",
    "# Specify the batch size.\n",
    "batch_size = 10\n",
    "\n",
    "# Obtain the data loader.\n",
    "data_loader = get_loader(transform=transform_train,\n",
    "                         mode='train',\n",
    "                         batch_size=batch_size,\n",
    "                         vocab_threshold=vocab_threshold,\n",
    "                         vocab_from_file=False)"
   ]
  },
  {
   "cell_type": "markdown",
   "metadata": {},
   "source": [
    "When you ran the code cell above, the data loader was stored in the variable `data_loader`.  \n",
    "\n",
    "You can access the corresponding dataset as `data_loader.dataset`.  This dataset is an instance of the `CoCoDataset` class in **data_loader.py**.  \n",
    "\n",
    "\n",
    "### Exploring the `__getitem__` Method\n",
    "\n",
    "The `__getitem__` method in the `CoCoDataset` class determines how an image-caption pair is pre-processed before being incorporated into a batch.  This is true for all `Dataset` classes in PyTorch. \n",
    "\n",
    "When the data loader is in training mode, this method begins by first obtaining the filename (`path`) of a training image and its corresponding caption (`caption`).\n",
    "\n",
    "#### Image Pre-Processing \n",
    "\n",
    "Image pre-processing is relatively straightforward (from the `__getitem__` method in the `CoCoDataset` class):\n",
    "```python\n",
    "# Convert image to tensor and pre-process using transform\n",
    "image = Image.open(os.path.join(self.img_folder, path)).convert('RGB')\n",
    "image = self.transform(image)\n",
    "```\n",
    "After loading the image in the training folder with name `path`, the image is pre-processed using the same transform (`transform_train`) that was supplied when instantiating the data loader.  \n",
    "\n",
    "#### Caption Pre-Processing \n",
    "\n",
    "The captions also need to be pre-processed and prepped for training. In this example, for generating captions, we are aiming to create a model that predicts the next token of a sentence from previous tokens, so we turn the caption associated with any image into a list of tokenized words, before casting it to a PyTorch tensor that we can use to train the network.\n",
    "\n",
    "To understand in more detail how COCO captions are pre-processed, we'll first need to take a look at the `vocab` instance variable of the `CoCoDataset` class.  The code snippet below is pulled from the `__init__` method of the `CoCoDataset` class:\n",
    "```python\n",
    "def __init__(self, transform, mode, batch_size, vocab_threshold, vocab_file, start_word, \n",
    "        end_word, unk_word, annotations_file, vocab_from_file, img_folder):\n",
    "        ...\n",
    "        self.vocab = Vocabulary(vocab_threshold, vocab_file, start_word,\n",
    "            end_word, unk_word, annotations_file, vocab_from_file)\n",
    "        ...\n",
    "```\n",
    "From the code snippet above, you can see that `data_loader.dataset.vocab` is an instance of the `Vocabulary` class from **vocabulary.py**.  \n",
    "\n",
    "We use this instance to pre-process the COCO captions (from the `__getitem__` method in the `CoCoDataset` class):\n",
    "\n",
    "```python\n",
    "# Convert caption to tensor of word ids.\n",
    "tokens = nltk.tokenize.word_tokenize(str(caption).lower())   # line 1\n",
    "caption = []                                                 # line 2\n",
    "caption.append(self.vocab(self.vocab.start_word))            # line 3\n",
    "caption.extend([self.vocab(token) for token in tokens])      # line 4\n",
    "caption.append(self.vocab(self.vocab.end_word))              # line 5\n",
    "caption = torch.Tensor(caption).long()                       # line 6\n",
    "```\n",
    "\n",
    "This code converts any string-valued caption to a list of integers, before casting it to a PyTorch tensor.  To see how this code works, we'll apply it to a sample caption."
   ]
  },
  {
   "cell_type": "code",
   "execution_count": 4,
   "metadata": {},
   "outputs": [],
   "source": [
    "sample_caption = 'A person doing a trick on a rail while riding a skateboard.'"
   ]
  },
  {
   "cell_type": "markdown",
   "metadata": {},
   "source": [
    "In **`line 1`** of the code snippet, every letter in the caption is converted to lowercase, and the [`nltk.tokenize.word_tokenize`](http://www.nltk.org/) function is used to obtain a list of string-valued tokens.  Run the next code cell to visualize the effect on `sample_caption`."
   ]
  },
  {
   "cell_type": "code",
   "execution_count": 5,
   "metadata": {},
   "outputs": [
    {
     "name": "stdout",
     "output_type": "stream",
     "text": [
      "['a', 'person', 'doing', 'a', 'trick', 'on', 'a', 'rail', 'while', 'riding', 'a', 'skateboard', '.']\n"
     ]
    }
   ],
   "source": [
    "import nltk\n",
    "\n",
    "sample_tokens = nltk.tokenize.word_tokenize(str(sample_caption).lower())\n",
    "print(sample_tokens)"
   ]
  },
  {
   "cell_type": "markdown",
   "metadata": {},
   "source": [
    "In **`line 2`** and **`line 3`** we initialize an empty list and append an integer to mark the start of a caption.  \n",
    "\n",
    "This special start word (`\"<start>\"`) is decided when instantiating the data loader and is passed as a parameter (`start_word`).  You are **required** to keep this parameter at its default value (`start_word=\"<start>\"`).\n",
    "\n",
    "As you will see below, the integer `0` is always used to mark the start of a caption."
   ]
  },
  {
   "cell_type": "code",
   "execution_count": 6,
   "metadata": {},
   "outputs": [
    {
     "name": "stdout",
     "output_type": "stream",
     "text": [
      "Special start word: <start>\n",
      "[0]\n"
     ]
    }
   ],
   "source": [
    "sample_caption = []\n",
    "\n",
    "start_word = data_loader.dataset.vocab.start_word\n",
    "print('Special start word:', start_word)\n",
    "sample_caption.append(data_loader.dataset.vocab(start_word))\n",
    "print(sample_caption)"
   ]
  },
  {
   "cell_type": "markdown",
   "metadata": {},
   "source": [
    "In **`line 4`**, we continue the list by adding integers that correspond to each of the tokens in the caption."
   ]
  },
  {
   "cell_type": "code",
   "execution_count": 7,
   "metadata": {},
   "outputs": [
    {
     "name": "stdout",
     "output_type": "stream",
     "text": [
      "[0, 3, 98, 754, 3, 396, 39, 3, 1009, 207, 139, 3, 753, 18]\n"
     ]
    }
   ],
   "source": [
    "sample_caption.extend([data_loader.dataset.vocab(token) for token in sample_tokens])\n",
    "print(sample_caption)"
   ]
  },
  {
   "cell_type": "markdown",
   "metadata": {},
   "source": [
    "In **`line 5`**, we append a final integer to mark the end of the caption.  \n",
    "\n",
    "Identical to the case of the special start word (above), the special end word (`\"<end>\"`) is decided when instantiating the data loader and is passed as a parameter (`end_word`).  \n",
    "\n",
    "As you will see below, the integer `1` is always used to  mark the end of a caption."
   ]
  },
  {
   "cell_type": "code",
   "execution_count": 8,
   "metadata": {},
   "outputs": [
    {
     "name": "stdout",
     "output_type": "stream",
     "text": [
      "Special end word: <end>\n",
      "[0, 3, 98, 754, 3, 396, 39, 3, 1009, 207, 139, 3, 753, 18, 1]\n"
     ]
    }
   ],
   "source": [
    "end_word = data_loader.dataset.vocab.end_word\n",
    "print('Special end word:', end_word)\n",
    "\n",
    "sample_caption.append(data_loader.dataset.vocab(end_word))\n",
    "print(sample_caption)"
   ]
  },
  {
   "cell_type": "markdown",
   "metadata": {},
   "source": [
    "Finally, in **`line 6`**, we convert the list of integers to a PyTorch tensor and cast it to [long type](http://pytorch.org/docs/master/tensors.html#torch.Tensor.long).  You can read more about the different types of PyTorch tensors on the [website](http://pytorch.org/docs/master/tensors.html)."
   ]
  },
  {
   "cell_type": "code",
   "execution_count": 9,
   "metadata": {},
   "outputs": [
    {
     "name": "stdout",
     "output_type": "stream",
     "text": [
      "tensor([    0,     3,    98,   754,     3,   396,    39,     3,  1009,\n",
      "          207,   139,     3,   753,    18,     1])\n"
     ]
    }
   ],
   "source": [
    "import torch\n",
    "\n",
    "sample_caption = torch.Tensor(sample_caption).long()\n",
    "print(sample_caption)"
   ]
  },
  {
   "cell_type": "markdown",
   "metadata": {},
   "source": [
    "In summary, any caption is converted to a list of tokens, with _special_ start and end tokens marking the beginning and end of the sentence:\n",
    "```\n",
    "[<start>, 'a', 'person', 'doing', 'a', 'trick', 'while', 'riding', 'a', 'skateboard', '.', <end>]\n",
    "```\n",
    "This list of tokens is then turned into a list of integers, where every distinct word in the vocabulary has an associated integer value:\n",
    "```\n",
    "[0, 3, 98, 754, 3, 396, 207, 139, 3, 753, 18, 1]\n",
    "```\n",
    "Finally, this list is converted to a PyTorch tensor.  All of the captions in the COCO dataset are pre-processed using this same procedure from **`lines 1-6`** described above.  \n",
    "\n",
    "As you saw, in order to convert a token to its corresponding integer, we call `data_loader.dataset.vocab` as a function.  The details of how this call works can be explored in the `__call__` method in the `Vocabulary` class in **vocabulary.py**.  \n",
    "\n",
    "```python\n",
    "def __call__(self, word):\n",
    "    if not word in self.word2idx:\n",
    "        return self.word2idx[self.unk_word]\n",
    "    return self.word2idx[word]\n",
    "```\n",
    "\n",
    "The `word2idx` instance variable is a Python [dictionary](https://docs.python.org/3/tutorial/datastructures.html#dictionaries) that is indexed by string-valued keys (mostly tokens obtained from training captions).  For each key, the corresponding value is the integer that the token is mapped to in the pre-processing step.\n",
    "\n",
    "The code cell below show a subset of this dictionary."
   ]
  },
  {
   "cell_type": "code",
   "execution_count": 10,
   "metadata": {},
   "outputs": [
    {
     "data": {
      "text/plain": [
       "{'<start>': 0,\n",
       " '<end>': 1,\n",
       " '<unk>': 2,\n",
       " 'a': 3,\n",
       " 'very': 4,\n",
       " 'clean': 5,\n",
       " 'and': 6,\n",
       " 'well': 7,\n",
       " 'decorated': 8,\n",
       " 'empty': 9}"
      ]
     },
     "execution_count": 10,
     "metadata": {},
     "output_type": "execute_result"
    }
   ],
   "source": [
    "# Preview the word2idx dictionary.\n",
    "dict(list(data_loader.dataset.vocab.word2idx.items())[:10])"
   ]
  },
  {
   "cell_type": "markdown",
   "metadata": {},
   "source": [
    "The total number of keys."
   ]
  },
  {
   "cell_type": "code",
   "execution_count": 11,
   "metadata": {},
   "outputs": [
    {
     "name": "stdout",
     "output_type": "stream",
     "text": [
      "Total number of tokens in vocabulary: 8855\n"
     ]
    }
   ],
   "source": [
    "# Print the total number of keys in the word2idx dictionary.\n",
    "print('Total number of tokens in vocabulary:', len(data_loader.dataset.vocab))"
   ]
  },
  {
   "cell_type": "markdown",
   "metadata": {},
   "source": [
    "As you will see if you examine the code in **vocabulary.py**, the `word2idx` dictionary is created by looping over the captions in the training dataset.  If a token appears no less than `vocab_threshold` times in the training set, then it is added as a key to the dictionary and assigned a corresponding unique integer.  "
   ]
  },
  {
   "cell_type": "code",
   "execution_count": 12,
   "metadata": {},
   "outputs": [
    {
     "name": "stdout",
     "output_type": "stream",
     "text": [
      "loading annotations into memory...\n",
      "Done (t=0.84s)\n",
      "creating index...\n",
      "index created!\n",
      "[0/414113] Tokenizing captions...\n",
      "[100000/414113] Tokenizing captions...\n",
      "[200000/414113] Tokenizing captions...\n",
      "[300000/414113] Tokenizing captions...\n",
      "[400000/414113] Tokenizing captions...\n",
      "loading annotations into memory...\n"
     ]
    },
    {
     "name": "stderr",
     "output_type": "stream",
     "text": [
      "100%|██████████| 414113/414113 [01:38<00:00, 4217.49it/s]\n"
     ]
    },
    {
     "name": "stdout",
     "output_type": "stream",
     "text": [
      "Done (t=0.86s)\n",
      "creating index...\n",
      "index created!\n",
      "Obtaining caption lengths...\n"
     ]
    }
   ],
   "source": [
    "# Minimum word count threshold.\n",
    "vocab_threshold = 4\n",
    "\n",
    "# Obtain the data loader.\n",
    "data_loader = get_loader(transform=transform_train,\n",
    "                         mode='train',\n",
    "                         batch_size=batch_size,\n",
    "                         vocab_threshold=vocab_threshold,\n",
    "                         vocab_from_file=False)"
   ]
  },
  {
   "cell_type": "code",
   "execution_count": 13,
   "metadata": {},
   "outputs": [
    {
     "name": "stdout",
     "output_type": "stream",
     "text": [
      "Total number of tokens in vocabulary: 9955\n"
     ]
    }
   ],
   "source": [
    "# Print the total number of keys in the word2idx dictionary.\n",
    "print('Total number of tokens in vocabulary:', len(data_loader.dataset.vocab))"
   ]
  },
  {
   "cell_type": "markdown",
   "metadata": {},
   "source": [
    "There is one more special token, corresponding to unknown words (`\"<unk>\"`).  All tokens that don't appear anywhere in the `word2idx` dictionary are considered unknown words.  In the pre-processing step, any unknown tokens are mapped to the integer `2`."
   ]
  },
  {
   "cell_type": "code",
   "execution_count": 14,
   "metadata": {},
   "outputs": [
    {
     "name": "stdout",
     "output_type": "stream",
     "text": [
      "Special unknown word: <unk>\n",
      "All unknown words are mapped to this integer: 2\n"
     ]
    }
   ],
   "source": [
    "unk_word = data_loader.dataset.vocab.unk_word\n",
    "print('Special unknown word:', unk_word)\n",
    "\n",
    "print('All unknown words are mapped to this integer:', data_loader.dataset.vocab(unk_word))"
   ]
  },
  {
   "cell_type": "markdown",
   "metadata": {},
   "source": [
    "Check this for yourself below, by pre-processing the provided nonsense words that never appear in the training captions. "
   ]
  },
  {
   "cell_type": "code",
   "execution_count": 15,
   "metadata": {},
   "outputs": [
    {
     "name": "stdout",
     "output_type": "stream",
     "text": [
      "2\n",
      "2\n"
     ]
    }
   ],
   "source": [
    "print(data_loader.dataset.vocab('jfkafejw'))\n",
    "print(data_loader.dataset.vocab('ieowoqjf'))"
   ]
  },
  {
   "cell_type": "markdown",
   "metadata": {},
   "source": [
    "The final thing to mention is the `vocab_from_file` argument that is supplied when creating a data loader.  To understand this argument, note that when you create a new data loader, the vocabulary (`data_loader.dataset.vocab`) is saved as a [pickle](https://docs.python.org/3/library/pickle.html) file in the project folder, with filename `vocab.pkl`.\n",
    "\n",
    "If you are still tweaking the value of the `vocab_threshold` argument, you **must** set `vocab_from_file=False` to have your changes take effect.  \n",
    "\n",
    "But once you are happy with the value that you have chosen for the `vocab_threshold` argument, you need only run the data loader *one more time* with your chosen `vocab_threshold` to save the new vocabulary to file.  Then, you can henceforth set `vocab_from_file=True` to load the vocabulary from file and speed the instantiation of the data loader.  Note that building the vocabulary from scratch is the most time-consuming part of instantiating the data loader.\n",
    "\n",
    "Note that if `vocab_from_file=True`, then any supplied argument for `vocab_threshold` when instantiating the data loader is completely ignored."
   ]
  },
  {
   "cell_type": "code",
   "execution_count": 16,
   "metadata": {},
   "outputs": [
    {
     "name": "stdout",
     "output_type": "stream",
     "text": [
      "Vocabulary successfully loaded from vocab.pkl file!\n",
      "loading annotations into memory...\n"
     ]
    },
    {
     "name": "stderr",
     "output_type": "stream",
     "text": [
      "100%|██████████| 414113/414113 [01:37<00:00, 4242.29it/s]\n"
     ]
    },
    {
     "name": "stdout",
     "output_type": "stream",
     "text": [
      "Done (t=0.89s)\n",
      "creating index...\n",
      "index created!\n",
      "Obtaining caption lengths...\n"
     ]
    }
   ],
   "source": [
    "# Obtain the data loader (from file). Note that it runs much faster than before!\n",
    "data_loader = get_loader(transform=transform_train,\n",
    "                         mode='train',\n",
    "                         batch_size=batch_size,\n",
    "                         vocab_from_file=True)"
   ]
  },
  {
   "cell_type": "markdown",
   "metadata": {},
   "source": [
    "<a id='step2'></a>\n",
    "## Step 2: Use the Data Loader to Obtain Batches\n",
    "\n",
    "The captions in the dataset vary greatly in length.  You can see this by examining `data_loader.dataset.caption_lengths`, a Python list with one entry for each training caption (where the value stores the length of the corresponding caption).  \n",
    "\n",
    "In the code cell below, we use this list to print the total number of captions in the training data with each length. \n",
    "\n",
    "As you will see below, the majority of captions have length 10.  Likewise, very short and very long captions are quite rare.  "
   ]
  },
  {
   "cell_type": "code",
   "execution_count": 17,
   "metadata": {},
   "outputs": [
    {
     "name": "stdout",
     "output_type": "stream",
     "text": [
      "value: 10 --- count: 86334\n",
      "value: 11 --- count: 79948\n",
      "value:  9 --- count: 71934\n",
      "value: 12 --- count: 57637\n",
      "value: 13 --- count: 37645\n",
      "value: 14 --- count: 22335\n",
      "value:  8 --- count: 20771\n",
      "value: 15 --- count: 12841\n",
      "value: 16 --- count:  7729\n",
      "value: 17 --- count:  4842\n",
      "value: 18 --- count:  3104\n",
      "value: 19 --- count:  2014\n",
      "value:  7 --- count:  1597\n",
      "value: 20 --- count:  1451\n",
      "value: 21 --- count:   999\n",
      "value: 22 --- count:   683\n",
      "value: 23 --- count:   534\n",
      "value: 24 --- count:   383\n",
      "value: 25 --- count:   277\n",
      "value: 26 --- count:   215\n",
      "value: 27 --- count:   159\n",
      "value: 28 --- count:   115\n",
      "value: 29 --- count:    86\n",
      "value: 30 --- count:    58\n",
      "value: 31 --- count:    49\n",
      "value: 32 --- count:    44\n",
      "value: 34 --- count:    39\n",
      "value: 37 --- count:    32\n",
      "value: 33 --- count:    31\n",
      "value: 35 --- count:    31\n",
      "value: 36 --- count:    26\n",
      "value: 38 --- count:    18\n",
      "value: 39 --- count:    18\n",
      "value: 43 --- count:    16\n",
      "value: 44 --- count:    16\n",
      "value: 48 --- count:    12\n",
      "value: 45 --- count:    11\n",
      "value: 42 --- count:    10\n",
      "value: 40 --- count:     9\n",
      "value: 49 --- count:     9\n",
      "value: 46 --- count:     9\n",
      "value: 47 --- count:     7\n",
      "value: 50 --- count:     6\n",
      "value: 51 --- count:     6\n",
      "value: 41 --- count:     6\n",
      "value: 52 --- count:     5\n",
      "value: 54 --- count:     3\n",
      "value: 56 --- count:     2\n",
      "value:  6 --- count:     2\n",
      "value: 53 --- count:     2\n",
      "value: 55 --- count:     2\n",
      "value: 57 --- count:     1\n"
     ]
    }
   ],
   "source": [
    "from collections import Counter\n",
    "\n",
    "# Total number of training captions with each length.\n",
    "counter = Counter(data_loader.dataset.caption_lengths)\n",
    "lengths = sorted(counter.items(), key=lambda pair: pair[1], reverse=True)\n",
    "for value, count in lengths:\n",
    "    print('value: %2d --- count: %5d' % (value, count))"
   ]
  },
  {
   "cell_type": "markdown",
   "metadata": {},
   "source": [
    "To generate batches of training data, we begin by first sampling a caption length (where the probability that any length is drawn is proportional to the number of captions with that length in the dataset).  \n",
    "\n",
    "Then, we retrieve a batch of size `batch_size` of image-caption pairs, where all captions have the sampled length.  This approach for assembling batches matches the procedure in [this paper](https://arxiv.org/pdf/1502.03044.pdf) and has been shown to be computationally efficient without degrading performance.\n",
    "\n",
    "The `get_train_indices` method in the `CoCoDataset` class first samples a caption length, and then samples `batch_size` indices corresponding to training data points with captions of that length.  These indices are stored below in `indices`.\n",
    "\n",
    "These indices are supplied to the data loader, which then is used to retrieve the corresponding data points.  The pre-processed images and captions in the batch are stored in `images` and `captions`."
   ]
  },
  {
   "cell_type": "code",
   "execution_count": 18,
   "metadata": {
    "scrolled": false
   },
   "outputs": [
    {
     "name": "stdout",
     "output_type": "stream",
     "text": [
      "sampled indices: [131591, 264113, 328308, 281127, 1799, 4247, 198929, 342072, 27612, 52300]\n",
      "images.shape: torch.Size([10, 3, 224, 224])\n",
      "captions.shape: torch.Size([10, 11])\n",
      "images: tensor([[[[ 1.9064,  1.8893,  1.8893,  ..., -1.4843, -1.4843, -1.5014],\n",
      "          [ 1.8550,  1.8550,  1.8379,  ..., -1.4843, -1.4500, -1.4672],\n",
      "          [ 1.8037,  1.8037,  1.7694,  ..., -1.4500, -1.4329, -1.4329],\n",
      "          ...,\n",
      "          [-1.9638, -1.9467, -1.9467,  ...,  0.5193,  0.6049,  0.6221],\n",
      "          [-1.9467, -1.9295, -1.9295,  ...,  0.7248,  0.6392,  0.5707],\n",
      "          [-1.9638, -1.9467, -1.9467,  ...,  0.6221,  0.5707,  0.5193]],\n",
      "\n",
      "         [[ 2.1134,  2.0959,  2.0959,  ..., -1.5980, -1.5980, -1.6155],\n",
      "          [ 2.0609,  2.0609,  2.0434,  ..., -1.5805, -1.5630, -1.5805],\n",
      "          [ 2.0084,  2.0084,  1.9734,  ..., -1.5805, -1.5455, -1.5630],\n",
      "          ...,\n",
      "          [-1.8782, -1.8606, -1.8606,  ...,  0.6779,  0.7479,  0.7654],\n",
      "          [-1.8606, -1.8431, -1.8431,  ...,  0.8704,  0.8004,  0.7479],\n",
      "          [-1.8782, -1.8606, -1.8606,  ...,  0.8004,  0.8004,  0.7654]],\n",
      "\n",
      "         [[ 2.3088,  2.2914,  2.2914,  ..., -1.3339, -1.3513, -1.3861],\n",
      "          [ 2.2566,  2.2566,  2.2391,  ..., -1.3339, -1.3164, -1.3513],\n",
      "          [ 2.2043,  2.2043,  2.1694,  ..., -1.3339, -1.2990, -1.3164],\n",
      "          ...,\n",
      "          [-1.6476, -1.6302, -1.6302,  ...,  0.8622,  0.9668,  1.0017],\n",
      "          [-1.6302, -1.6127, -1.6127,  ...,  1.1585,  1.1062,  1.0365],\n",
      "          [-1.6476, -1.6302, -1.6302,  ...,  1.1237,  1.1062,  1.0888]]],\n",
      "\n",
      "\n",
      "        [[[ 0.7077,  0.7419,  0.8104,  ...,  0.0227,  0.1083,  0.5364],\n",
      "          [ 0.7077,  0.7591,  0.8104,  ...,  0.0398, -0.0972,  0.0912],\n",
      "          [ 0.7248,  0.7591,  0.8104,  ..., -0.0629, -0.1828,  0.3138],\n",
      "          ...,\n",
      "          [-0.1486,  0.3652,  0.5022,  ..., -0.6965, -0.6794, -0.6452],\n",
      "          [-1.0219, -0.5424,  0.0569,  ..., -0.6452, -0.6452, -0.6965],\n",
      "          [-1.1932, -1.1589, -0.8678,  ..., -0.6109, -0.5767, -0.6281]],\n",
      "\n",
      "         [[ 0.9230,  0.9930,  1.0805,  ...,  0.3452,  0.4328,  0.8529],\n",
      "          [ 0.9930,  1.0630,  1.1155,  ...,  0.3277,  0.1877,  0.3803],\n",
      "          [ 1.0630,  1.0805,  1.1331,  ...,  0.2052,  0.0301,  0.5203],\n",
      "          ...,\n",
      "          [ 0.1176,  0.6604,  0.8354,  ..., -0.5126, -0.4601, -0.4251],\n",
      "          [-0.8102, -0.3200,  0.3102,  ..., -0.4426, -0.4426, -0.4951],\n",
      "          [-1.0203, -0.9678, -0.6527,  ..., -0.4426, -0.3901, -0.4251]],\n",
      "\n",
      "         [[ 1.1411,  1.2457,  1.3502,  ...,  0.4265,  0.5136,  0.9668],\n",
      "          [ 1.2108,  1.3154,  1.3851,  ...,  0.4091,  0.2522,  0.4614],\n",
      "          [ 1.2282,  1.2805,  1.3502,  ...,  0.3045,  0.1302,  0.6182],\n",
      "          ...,\n",
      "          [ 0.4788,  0.8971,  1.0365,  ..., -0.2184, -0.2184, -0.2010],\n",
      "          [-0.4101,  0.1128,  0.6705,  ..., -0.1661, -0.1661, -0.2184],\n",
      "          [-0.6715, -0.5844, -0.1835,  ..., -0.1661, -0.1138, -0.1487]]],\n",
      "\n",
      "\n",
      "        [[[-1.6042, -1.7240, -1.5699,  ..., -1.6898, -1.0562, -0.5082],\n",
      "          [-1.4329, -1.2959, -1.5528,  ..., -1.7240, -1.0562, -1.0733],\n",
      "          [-1.6042, -1.4329, -1.7925,  ..., -1.8097, -1.1075, -1.2445],\n",
      "          ...,\n",
      "          [-0.0972,  0.0398, -0.0287,  ..., -1.0562, -1.2788, -1.2445],\n",
      "          [-0.0287, -0.0801,  0.1083,  ..., -1.0733, -1.0562, -1.3987],\n",
      "          [ 0.0056,  0.0056,  0.1083,  ..., -1.1418, -1.1075, -1.3130]],\n",
      "\n",
      "         [[-1.3704, -1.2304, -1.3704,  ..., -1.6155, -0.5651, -0.1275],\n",
      "          [-1.3880, -1.2129, -1.4405,  ..., -1.6155, -0.6877, -0.8102],\n",
      "          [-1.5805, -1.2304, -1.5630,  ..., -1.5805, -0.9328, -1.0203],\n",
      "          ...,\n",
      "          [ 0.2577,  0.2052,  0.2577,  ..., -0.9853, -1.0553, -1.1253],\n",
      "          [ 0.1877,  0.2227,  0.3102,  ..., -0.8627, -1.0553, -0.9678],\n",
      "          [ 0.1877,  0.1702,  0.2227,  ..., -0.8978, -0.9153, -0.9328]],\n",
      "\n",
      "         [[-1.4210, -1.1770, -1.2641,  ..., -1.4210, -1.2119, -0.6367],\n",
      "          [-1.1421, -1.1770, -1.2990,  ..., -1.4384, -1.2119, -0.7936],\n",
      "          [-1.2990, -1.1073, -1.4036,  ..., -1.4907, -1.3513, -1.1770],\n",
      "          ...,\n",
      "          [ 0.9145,  0.8274,  0.8622,  ..., -1.0376, -0.9504, -0.9853],\n",
      "          [ 0.8622,  0.8971,  0.8622,  ..., -1.0376, -0.7587, -0.9853],\n",
      "          [ 0.7576,  0.9319,  0.7576,  ..., -0.8981, -1.0027, -1.0201]]],\n",
      "\n",
      "\n",
      "        ...,\n",
      "\n",
      "\n",
      "        [[[ 1.2385,  1.7865,  2.1290,  ...,  1.2385,  1.0673,  0.8618],\n",
      "          [ 1.0502,  1.2728,  1.4269,  ...,  1.1015,  1.0502,  0.8961],\n",
      "          [ 0.9474,  1.0331,  1.0159,  ...,  1.1700,  0.9817,  0.8447],\n",
      "          ...,\n",
      "          [ 0.6906,  0.8104,  0.7591,  ...,  0.9132,  0.9817,  1.0331],\n",
      "          [ 0.6734,  0.6734,  0.7419,  ...,  0.9817,  0.9303,  1.1358],\n",
      "          [ 0.7933,  0.7762,  0.8447,  ...,  1.0331,  0.9988,  1.0159]],\n",
      "\n",
      "         [[ 1.5007,  2.0784,  2.3235,  ...,  1.6758,  1.5707,  1.4132],\n",
      "          [ 1.2906,  1.6408,  1.8859,  ...,  1.5532,  1.5532,  1.4307],\n",
      "          [ 1.0455,  1.1506,  1.1331,  ...,  1.6057,  1.5182,  1.3957],\n",
      "          ...,\n",
      "          [ 0.0651,  0.2227,  0.1352,  ...,  0.2927,  0.3452,  0.4153],\n",
      "          [ 0.1001,  0.1527,  0.1527,  ...,  0.3978,  0.2927,  0.4853],\n",
      "          [ 0.2927,  0.3102,  0.3102,  ...,  0.4503,  0.3978,  0.3277]],\n",
      "\n",
      "         [[ 1.7337,  2.3263,  2.5354,  ...,  2.3611,  2.3263,  2.2217],\n",
      "          [ 1.5768,  1.9428,  2.0997,  ...,  2.2043,  2.2566,  2.2217],\n",
      "          [ 1.1062,  1.2805,  1.3502,  ...,  2.2043,  2.1868,  2.1694],\n",
      "          ...,\n",
      "          [-0.7761, -0.5147, -0.5495,  ..., -0.6018, -0.4798, -0.3404],\n",
      "          [-0.7064, -0.7761, -0.7064,  ..., -0.3753, -0.3927, -0.1138],\n",
      "          [-0.3055, -0.4973, -0.4624,  ..., -0.3230, -0.3404, -0.3230]]],\n",
      "\n",
      "\n",
      "        [[[ 1.7009,  1.7009,  1.7009,  ...,  1.3755,  1.3413,  1.3242],\n",
      "          [ 1.7352,  1.7180,  1.7352,  ...,  1.3584,  1.3413,  1.3070],\n",
      "          [ 1.7180,  1.7180,  1.7180,  ...,  1.3242,  1.3242,  1.3070],\n",
      "          ...,\n",
      "          [ 1.1358,  1.0844,  1.1872,  ...,  0.8447,  0.5878,  0.0227],\n",
      "          [ 1.0502,  0.9817,  1.0331,  ...,  0.8618,  0.5707, -0.0801],\n",
      "          [ 0.9646,  0.8789,  0.9132,  ...,  0.8447,  0.5536, -0.1999]],\n",
      "\n",
      "         [[ 1.7808,  1.7983,  1.7983,  ...,  1.3256,  1.3081,  1.2906],\n",
      "          [ 1.8158,  1.7983,  1.7983,  ...,  1.2906,  1.2731,  1.2731],\n",
      "          [ 1.7808,  1.7808,  1.7808,  ...,  1.2731,  1.2731,  1.2556],\n",
      "          ...,\n",
      "          [-0.0749, -0.1275,  0.0301,  ...,  0.0651, -0.1275, -0.7927],\n",
      "          [-0.0574, -0.1975, -0.0749,  ..., -0.0049, -0.1975, -0.8277],\n",
      "          [-0.1099, -0.2675, -0.1625,  ...,  0.0126, -0.2150, -0.7402]],\n",
      "\n",
      "         [[ 2.2391,  2.2566,  2.2566,  ...,  1.7860,  1.7511,  1.7860],\n",
      "          [ 2.2391,  2.2391,  2.2566,  ...,  1.7685,  1.7685,  1.7163],\n",
      "          [ 2.2391,  2.2217,  2.2391,  ...,  1.7163,  1.7163,  1.6640],\n",
      "          ...,\n",
      "          [-0.7761, -0.7936, -0.7064,  ..., -0.7587, -0.8458, -1.1247],\n",
      "          [-0.7238, -0.7761, -0.7238,  ..., -0.7587, -0.8458, -1.1073],\n",
      "          [-0.7064, -0.8458, -0.7238,  ..., -0.7413, -0.8633, -0.7587]]],\n",
      "\n",
      "\n",
      "        [[[ 0.9303,  1.0502,  1.1529,  ...,  1.1529,  0.7077,  1.4098],\n",
      "          [ 0.3481,  0.6049,  0.5193,  ...,  1.2043,  0.7077,  1.4269],\n",
      "          [ 0.9817,  1.6153,  1.6153,  ...,  1.2557,  0.7933,  1.3927],\n",
      "          ...,\n",
      "          [-0.2342, -0.3027, -0.4911,  ..., -0.2856, -0.1314, -0.2684],\n",
      "          [-0.6452, -0.3883, -0.3712,  ..., -0.3883, -0.2342, -0.3712],\n",
      "          [-0.2513,  0.1426,  0.1768,  ..., -0.3369, -0.4397, -0.5253]],\n",
      "\n",
      "         [[ 1.1506,  1.2381,  1.3431,  ...,  1.1331,  0.8704,  1.4132],\n",
      "          [ 0.3452,  0.5203,  0.4153,  ...,  1.1856,  0.8529,  1.3957],\n",
      "          [ 1.0455,  1.7108,  1.6758,  ...,  1.2556,  0.9055,  1.4132],\n",
      "          ...,\n",
      "          [-0.1450, -0.3025, -0.5301,  ..., -0.3025, -0.1450, -0.2850],\n",
      "          [-0.5826, -0.3550, -0.3725,  ..., -0.4076, -0.2500, -0.3901],\n",
      "          [-0.1275,  0.2227,  0.2402,  ..., -0.3901, -0.4951, -0.5651]],\n",
      "\n",
      "         [[ 1.4025,  1.4897,  1.6117,  ...,  1.4374,  1.1237,  1.6988],\n",
      "          [ 0.6531,  0.7925,  0.6879,  ...,  1.5071,  1.1237,  1.7163],\n",
      "          [ 1.4025,  1.9080,  1.8731,  ...,  1.5594,  1.1759,  1.7163],\n",
      "          ...,\n",
      "          [ 0.0431, -0.1487, -0.3578,  ..., -0.2707, -0.1312, -0.2532],\n",
      "          [-0.3578, -0.2358, -0.3404,  ..., -0.3404, -0.2184, -0.3578],\n",
      "          [-0.0790,  0.3045,  0.3742,  ..., -0.3055, -0.4275, -0.4973]]]])\n",
      "captions: tensor([[    0,     3,   993,    64,   105,     3,  9730,    77,    46,\n",
      "            18,     1],\n",
      "        [    0,     3,  2895,  1240,    81,     3,   899,    39,   526,\n",
      "            18,     1],\n",
      "        [    0,    47,  1604,  1605,   906,    39,     3,  1736,  1038,\n",
      "            40,     1],\n",
      "        [    0,    73,   985,    51,    52,   170,   101,     3,   577,\n",
      "            18,     1],\n",
      "        [    0,     3,  1858,   104,   184,    21,    16,  1175,    54,\n",
      "            18,     1],\n",
      "        [    0,    47,  2512,   862,   130,  2169,    77,     3,    56,\n",
      "            18,     1],\n",
      "        [    0,     3,   363,   105,   666,     2,     3,  1492,   353,\n",
      "            18,     1],\n",
      "        [    0,    47,  4189,   164,    13,     3,  1496,  7195,    21,\n",
      "          4195,     1],\n",
      "        [    0,  2066,    14,     6,  1032,    77,     3,   215,  1031,\n",
      "           137,     1],\n",
      "        [    0,     3,   169,    77,     3,  1536,   130,   139,     3,\n",
      "           129,     1]])\n"
     ]
    }
   ],
   "source": [
    "import numpy as np\n",
    "import torch.utils.data as data\n",
    "\n",
    "# Randomly sample a caption length, and sample indices with that length.\n",
    "indices = data_loader.dataset.get_train_indices()\n",
    "print('sampled indices:', indices)\n",
    "\n",
    "# Create and assign a batch sampler to retrieve a batch with the sampled indices.\n",
    "new_sampler = data.sampler.SubsetRandomSampler(indices=indices)\n",
    "data_loader.batch_sampler.sampler = new_sampler\n",
    "    \n",
    "# Obtain the batch.\n",
    "images, captions = next(iter(data_loader))\n",
    "    \n",
    "print('images.shape:', images.shape)\n",
    "print('captions.shape:', captions.shape)\n",
    "\n",
    "# Print the pre-processed images and captions.\n",
    "print('images:', images)\n",
    "print('captions:', captions)"
   ]
  },
  {
   "cell_type": "markdown",
   "metadata": {},
   "source": [
    "<a id='step3'></a>\n",
    "## Step 3: The CNN Encoder\n",
    "\n",
    "Run the code cell below to import `EncoderCNN` and `DecoderRNN` from **model.py**. "
   ]
  },
  {
   "cell_type": "code",
   "execution_count": 21,
   "metadata": {},
   "outputs": [
    {
     "name": "stdout",
     "output_type": "stream",
     "text": [
      "The autoreload extension is already loaded. To reload it, use:\n",
      "  %reload_ext autoreload\n"
     ]
    }
   ],
   "source": [
    "% load_ext autoreload\n",
    "% autoreload 2\n",
    "\n",
    "# Import EncoderCNN and DecoderRNN. \n",
    "from model import EncoderCNN, DecoderRNN"
   ]
  },
  {
   "cell_type": "markdown",
   "metadata": {},
   "source": [
    "In the next code cell we define a `device` that you will use move PyTorch tensors to GPU (if CUDA is available). "
   ]
  },
  {
   "cell_type": "code",
   "execution_count": 22,
   "metadata": {},
   "outputs": [],
   "source": [
    "device = torch.device(\"cuda\" if torch.cuda.is_available() else \"cpu\")"
   ]
  },
  {
   "cell_type": "markdown",
   "metadata": {},
   "source": [
    "The code cell below instantiate the CNN encoder in `encoder`.  \n",
    "\n",
    "The pre-processed images from the batch in **Step 2** of this notebook are then passed through the encoder, and the output is stored in `features`."
   ]
  },
  {
   "cell_type": "code",
   "execution_count": 23,
   "metadata": {},
   "outputs": [
    {
     "name": "stdout",
     "output_type": "stream",
     "text": [
      "type(features): <class 'torch.Tensor'>\n",
      "features.shape: torch.Size([10, 256])\n"
     ]
    }
   ],
   "source": [
    "# Specify the dimensionality of the image embedding.\n",
    "embed_size = 256\n",
    "\n",
    "# Initialize the encoder. \n",
    "encoder = EncoderCNN(embed_size)\n",
    "\n",
    "# Move the encoder to GPU if CUDA is available.\n",
    "encoder.to(device)\n",
    "    \n",
    "# Move last batch of images (from Step 2) to GPU if CUDA is available.   \n",
    "images = images.to(device)\n",
    "\n",
    "# Pass the images through the encoder.\n",
    "features = encoder(images)\n",
    "\n",
    "print('type(features):', type(features))\n",
    "print('features.shape:', features.shape)\n",
    "\n",
    "# Check that your encoder satisfies requirements \n",
    "assert type(features)==torch.Tensor, \"Encoder output needs to be a PyTorch Tensor.\" \n",
    "assert (features.shape[0]==batch_size) & (features.shape[1]==embed_size), \"The shape of the encoder output is incorrect.\""
   ]
  },
  {
   "cell_type": "markdown",
   "metadata": {},
   "source": [
    "The encoder uses the pre-trained ResNet-50 architecture (with the final fully-connected layer removed) to extract features from a batch of pre-processed images.  The output is then flattened to a vector, before being passed through a `Linear` layer to transform the feature vector to have the same size as the word embedding.\n",
    "\n",
    "![Encoder](images/encoder.png)\n",
    "\n"
   ]
  },
  {
   "cell_type": "markdown",
   "metadata": {},
   "source": [
    "<a id='step4'></a>\n",
    "## Step 4: The RNN Decoder\n",
    "\n",
    "The `DecoderRNN` class must accept as input:\n",
    "- the PyTorch tensor `features` containing the embedded image features (outputted in Step 3, when the last batch of images from Step 2 was passed through `encoder`), along with\n",
    "- a PyTorch tensor corresponding to the last batch of captions (`captions`) from Step 2.\n",
    "\n",
    "Note that every training batch will contain pre-processed captions where all have the same length (`captions.shape[1]`), so no need to worry about padding.  \n",
    "\n",
    "Although you will test the decoder using the last batch that is currently stored in the notebook, the decoder should be written to accept an arbitrary batch (of embedded image features and pre-processed captions [where all captions have the same length]) as input.  \n",
    "\n",
    "![Decoder](images/decoder.png)\n",
    "\n",
    "In the code cell below, `outputs` is a PyTorch tensor with size `[batch_size, captions.shape[1], vocab_size]`.  The output is designed such that `outputs[i,j,k]` contains the model's predicted score, indicating how likely the `j`-th token in the `i`-th caption in the batch is the `k`-th token in the vocabulary.  "
   ]
  },
  {
   "cell_type": "code",
   "execution_count": 24,
   "metadata": {},
   "outputs": [
    {
     "name": "stdout",
     "output_type": "stream",
     "text": [
      "type(outputs): <class 'torch.Tensor'>\n",
      "outputs.shape: torch.Size([10, 11, 9955])\n"
     ]
    }
   ],
   "source": [
    "# Specify the number of features in the hidden state of the RNN decoder.\n",
    "hidden_size = 512\n",
    "\n",
    "# Store the size of the vocabulary.\n",
    "vocab_size = len(data_loader.dataset.vocab)\n",
    "\n",
    "# Initialize the decoder.\n",
    "decoder = DecoderRNN(embed_size, hidden_size, vocab_size)\n",
    "\n",
    "# Move the decoder to GPU if CUDA is available.\n",
    "decoder.to(device)\n",
    "    \n",
    "# Move last batch of captions (from Step 1) to GPU if CUDA is available \n",
    "captions = captions.to(device)\n",
    "\n",
    "# Pass the encoder output and captions through the decoder.\n",
    "outputs = decoder(features, captions)\n",
    "\n",
    "print('type(outputs):', type(outputs))\n",
    "print('outputs.shape:', outputs.shape)\n",
    "\n",
    "# Check that your decoder satisfies some requirements of the project! :D\n",
    "assert type(outputs)==torch.Tensor, \"Decoder output needs to be a PyTorch Tensor.\"\n",
    "assert (outputs.shape[0]==batch_size) & (outputs.shape[1]==captions.shape[1]) & (outputs.shape[2]==vocab_size), \"The shape of the decoder output is incorrect.\""
   ]
  }
 ],
 "metadata": {
  "anaconda-cloud": {},
  "kernelspec": {
   "display_name": "Python 3",
   "language": "python",
   "name": "python3"
  },
  "language_info": {
   "codemirror_mode": {
    "name": "ipython",
    "version": 3
   },
   "file_extension": ".py",
   "mimetype": "text/x-python",
   "name": "python",
   "nbconvert_exporter": "python",
   "pygments_lexer": "ipython3",
   "version": "3.6.3"
  }
 },
 "nbformat": 4,
 "nbformat_minor": 2
}
